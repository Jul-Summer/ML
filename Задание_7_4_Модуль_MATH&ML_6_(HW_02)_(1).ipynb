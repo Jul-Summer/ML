{
  "cells": [
    {
      "cell_type": "markdown",
      "metadata": {
        "id": "view-in-github",
        "colab_type": "text"
      },
      "source": [
        "<a href=\"https://colab.research.google.com/github/Jul-Summer/ML/blob/main/%D0%97%D0%B0%D0%B4%D0%B0%D0%BD%D0%B8%D0%B5_7_4_%D0%9C%D0%BE%D0%B4%D1%83%D0%BB%D1%8C_MATH%26ML_6_(HW_02)_(1).ipynb\" target=\"_parent\"><img src=\"https://colab.research.google.com/assets/colab-badge.svg\" alt=\"Open In Colab\"/></a>"
      ]
    },
    {
      "cell_type": "markdown",
      "metadata": {
        "id": "NyHIGVhfa_Wf"
      },
      "source": [
        "# Стохастический градиентный и координатный спуски"
      ]
    },
    {
      "cell_type": "markdown",
      "metadata": {
        "id": "txCccYvha_Wv"
      },
      "source": [
        "## Загрузка и подготовка данных (1 балл)"
      ]
    },
    {
      "cell_type": "markdown",
      "metadata": {
        "id": "NbyOzeZ6a_Wx"
      },
      "source": [
        "**Загрузите уже знакомый вам файл *Advertising.csv* как объект DataFrame.**"
      ]
    },
    {
      "cell_type": "code",
      "execution_count": null,
      "metadata": {
        "id": "7Wh6rGDwPATN"
      },
      "outputs": [],
      "source": [
        "import numpy as np\n",
        "import pandas as pd\n",
        "from sklearn.preprocessing import StandardScaler\n",
        "from sklearn.metrics import mean_squared_error, mean_absolute_error\n"
      ]
    },
    {
      "cell_type": "code",
      "source": [
        "from google.colab import files\n",
        "uploaded = files.upload()"
      ],
      "metadata": {
        "colab": {
          "base_uri": "https://localhost:8080/",
          "height": 73
        },
        "id": "brtZA6_VPQoi",
        "outputId": "d4329a44-87c8-405f-df6f-201040765a83"
      },
      "execution_count": null,
      "outputs": [
        {
          "output_type": "display_data",
          "data": {
            "text/plain": [
              "<IPython.core.display.HTML object>"
            ],
            "text/html": [
              "\n",
              "     <input type=\"file\" id=\"files-ae6d54c7-6d1a-49d9-bf0f-b8a5aee3a442\" name=\"files[]\" multiple disabled\n",
              "        style=\"border:none\" />\n",
              "     <output id=\"result-ae6d54c7-6d1a-49d9-bf0f-b8a5aee3a442\">\n",
              "      Upload widget is only available when the cell has been executed in the\n",
              "      current browser session. Please rerun this cell to enable.\n",
              "      </output>\n",
              "      <script>// Copyright 2017 Google LLC\n",
              "//\n",
              "// Licensed under the Apache License, Version 2.0 (the \"License\");\n",
              "// you may not use this file except in compliance with the License.\n",
              "// You may obtain a copy of the License at\n",
              "//\n",
              "//      http://www.apache.org/licenses/LICENSE-2.0\n",
              "//\n",
              "// Unless required by applicable law or agreed to in writing, software\n",
              "// distributed under the License is distributed on an \"AS IS\" BASIS,\n",
              "// WITHOUT WARRANTIES OR CONDITIONS OF ANY KIND, either express or implied.\n",
              "// See the License for the specific language governing permissions and\n",
              "// limitations under the License.\n",
              "\n",
              "/**\n",
              " * @fileoverview Helpers for google.colab Python module.\n",
              " */\n",
              "(function(scope) {\n",
              "function span(text, styleAttributes = {}) {\n",
              "  const element = document.createElement('span');\n",
              "  element.textContent = text;\n",
              "  for (const key of Object.keys(styleAttributes)) {\n",
              "    element.style[key] = styleAttributes[key];\n",
              "  }\n",
              "  return element;\n",
              "}\n",
              "\n",
              "// Max number of bytes which will be uploaded at a time.\n",
              "const MAX_PAYLOAD_SIZE = 100 * 1024;\n",
              "\n",
              "function _uploadFiles(inputId, outputId) {\n",
              "  const steps = uploadFilesStep(inputId, outputId);\n",
              "  const outputElement = document.getElementById(outputId);\n",
              "  // Cache steps on the outputElement to make it available for the next call\n",
              "  // to uploadFilesContinue from Python.\n",
              "  outputElement.steps = steps;\n",
              "\n",
              "  return _uploadFilesContinue(outputId);\n",
              "}\n",
              "\n",
              "// This is roughly an async generator (not supported in the browser yet),\n",
              "// where there are multiple asynchronous steps and the Python side is going\n",
              "// to poll for completion of each step.\n",
              "// This uses a Promise to block the python side on completion of each step,\n",
              "// then passes the result of the previous step as the input to the next step.\n",
              "function _uploadFilesContinue(outputId) {\n",
              "  const outputElement = document.getElementById(outputId);\n",
              "  const steps = outputElement.steps;\n",
              "\n",
              "  const next = steps.next(outputElement.lastPromiseValue);\n",
              "  return Promise.resolve(next.value.promise).then((value) => {\n",
              "    // Cache the last promise value to make it available to the next\n",
              "    // step of the generator.\n",
              "    outputElement.lastPromiseValue = value;\n",
              "    return next.value.response;\n",
              "  });\n",
              "}\n",
              "\n",
              "/**\n",
              " * Generator function which is called between each async step of the upload\n",
              " * process.\n",
              " * @param {string} inputId Element ID of the input file picker element.\n",
              " * @param {string} outputId Element ID of the output display.\n",
              " * @return {!Iterable<!Object>} Iterable of next steps.\n",
              " */\n",
              "function* uploadFilesStep(inputId, outputId) {\n",
              "  const inputElement = document.getElementById(inputId);\n",
              "  inputElement.disabled = false;\n",
              "\n",
              "  const outputElement = document.getElementById(outputId);\n",
              "  outputElement.innerHTML = '';\n",
              "\n",
              "  const pickedPromise = new Promise((resolve) => {\n",
              "    inputElement.addEventListener('change', (e) => {\n",
              "      resolve(e.target.files);\n",
              "    });\n",
              "  });\n",
              "\n",
              "  const cancel = document.createElement('button');\n",
              "  inputElement.parentElement.appendChild(cancel);\n",
              "  cancel.textContent = 'Cancel upload';\n",
              "  const cancelPromise = new Promise((resolve) => {\n",
              "    cancel.onclick = () => {\n",
              "      resolve(null);\n",
              "    };\n",
              "  });\n",
              "\n",
              "  // Wait for the user to pick the files.\n",
              "  const files = yield {\n",
              "    promise: Promise.race([pickedPromise, cancelPromise]),\n",
              "    response: {\n",
              "      action: 'starting',\n",
              "    }\n",
              "  };\n",
              "\n",
              "  cancel.remove();\n",
              "\n",
              "  // Disable the input element since further picks are not allowed.\n",
              "  inputElement.disabled = true;\n",
              "\n",
              "  if (!files) {\n",
              "    return {\n",
              "      response: {\n",
              "        action: 'complete',\n",
              "      }\n",
              "    };\n",
              "  }\n",
              "\n",
              "  for (const file of files) {\n",
              "    const li = document.createElement('li');\n",
              "    li.append(span(file.name, {fontWeight: 'bold'}));\n",
              "    li.append(span(\n",
              "        `(${file.type || 'n/a'}) - ${file.size} bytes, ` +\n",
              "        `last modified: ${\n",
              "            file.lastModifiedDate ? file.lastModifiedDate.toLocaleDateString() :\n",
              "                                    'n/a'} - `));\n",
              "    const percent = span('0% done');\n",
              "    li.appendChild(percent);\n",
              "\n",
              "    outputElement.appendChild(li);\n",
              "\n",
              "    const fileDataPromise = new Promise((resolve) => {\n",
              "      const reader = new FileReader();\n",
              "      reader.onload = (e) => {\n",
              "        resolve(e.target.result);\n",
              "      };\n",
              "      reader.readAsArrayBuffer(file);\n",
              "    });\n",
              "    // Wait for the data to be ready.\n",
              "    let fileData = yield {\n",
              "      promise: fileDataPromise,\n",
              "      response: {\n",
              "        action: 'continue',\n",
              "      }\n",
              "    };\n",
              "\n",
              "    // Use a chunked sending to avoid message size limits. See b/62115660.\n",
              "    let position = 0;\n",
              "    do {\n",
              "      const length = Math.min(fileData.byteLength - position, MAX_PAYLOAD_SIZE);\n",
              "      const chunk = new Uint8Array(fileData, position, length);\n",
              "      position += length;\n",
              "\n",
              "      const base64 = btoa(String.fromCharCode.apply(null, chunk));\n",
              "      yield {\n",
              "        response: {\n",
              "          action: 'append',\n",
              "          file: file.name,\n",
              "          data: base64,\n",
              "        },\n",
              "      };\n",
              "\n",
              "      let percentDone = fileData.byteLength === 0 ?\n",
              "          100 :\n",
              "          Math.round((position / fileData.byteLength) * 100);\n",
              "      percent.textContent = `${percentDone}% done`;\n",
              "\n",
              "    } while (position < fileData.byteLength);\n",
              "  }\n",
              "\n",
              "  // All done.\n",
              "  yield {\n",
              "    response: {\n",
              "      action: 'complete',\n",
              "    }\n",
              "  };\n",
              "}\n",
              "\n",
              "scope.google = scope.google || {};\n",
              "scope.google.colab = scope.google.colab || {};\n",
              "scope.google.colab._files = {\n",
              "  _uploadFiles,\n",
              "  _uploadFilesContinue,\n",
              "};\n",
              "})(self);\n",
              "</script> "
            ]
          },
          "metadata": {}
        },
        {
          "output_type": "stream",
          "name": "stdout",
          "text": [
            "Saving Advertising.csv to Advertising.csv\n"
          ]
        }
      ]
    },
    {
      "cell_type": "code",
      "execution_count": null,
      "metadata": {
        "id": "E1L4_xeDa_Wz",
        "colab": {
          "base_uri": "https://localhost:8080/",
          "height": 206
        },
        "outputId": "d0397142-0145-4fc5-8293-463e7dd0d007"
      },
      "outputs": [
        {
          "output_type": "execute_result",
          "data": {
            "text/plain": [
              "   Unnamed: 0     TV  radio  newspaper  sales\n",
              "0           1  230.1   37.8       69.2   22.1\n",
              "1           2   44.5   39.3       45.1   10.4\n",
              "2           3   17.2   45.9       69.3    9.3\n",
              "3           4  151.5   41.3       58.5   18.5\n",
              "4           5  180.8   10.8       58.4   12.9"
            ],
            "text/html": [
              "\n",
              "  <div id=\"df-0b49d9d5-cb51-4141-b830-32d834032fa9\" class=\"colab-df-container\">\n",
              "    <div>\n",
              "<style scoped>\n",
              "    .dataframe tbody tr th:only-of-type {\n",
              "        vertical-align: middle;\n",
              "    }\n",
              "\n",
              "    .dataframe tbody tr th {\n",
              "        vertical-align: top;\n",
              "    }\n",
              "\n",
              "    .dataframe thead th {\n",
              "        text-align: right;\n",
              "    }\n",
              "</style>\n",
              "<table border=\"1\" class=\"dataframe\">\n",
              "  <thead>\n",
              "    <tr style=\"text-align: right;\">\n",
              "      <th></th>\n",
              "      <th>Unnamed: 0</th>\n",
              "      <th>TV</th>\n",
              "      <th>radio</th>\n",
              "      <th>newspaper</th>\n",
              "      <th>sales</th>\n",
              "    </tr>\n",
              "  </thead>\n",
              "  <tbody>\n",
              "    <tr>\n",
              "      <th>0</th>\n",
              "      <td>1</td>\n",
              "      <td>230.1</td>\n",
              "      <td>37.8</td>\n",
              "      <td>69.2</td>\n",
              "      <td>22.1</td>\n",
              "    </tr>\n",
              "    <tr>\n",
              "      <th>1</th>\n",
              "      <td>2</td>\n",
              "      <td>44.5</td>\n",
              "      <td>39.3</td>\n",
              "      <td>45.1</td>\n",
              "      <td>10.4</td>\n",
              "    </tr>\n",
              "    <tr>\n",
              "      <th>2</th>\n",
              "      <td>3</td>\n",
              "      <td>17.2</td>\n",
              "      <td>45.9</td>\n",
              "      <td>69.3</td>\n",
              "      <td>9.3</td>\n",
              "    </tr>\n",
              "    <tr>\n",
              "      <th>3</th>\n",
              "      <td>4</td>\n",
              "      <td>151.5</td>\n",
              "      <td>41.3</td>\n",
              "      <td>58.5</td>\n",
              "      <td>18.5</td>\n",
              "    </tr>\n",
              "    <tr>\n",
              "      <th>4</th>\n",
              "      <td>5</td>\n",
              "      <td>180.8</td>\n",
              "      <td>10.8</td>\n",
              "      <td>58.4</td>\n",
              "      <td>12.9</td>\n",
              "    </tr>\n",
              "  </tbody>\n",
              "</table>\n",
              "</div>\n",
              "    <div class=\"colab-df-buttons\">\n",
              "\n",
              "  <div class=\"colab-df-container\">\n",
              "    <button class=\"colab-df-convert\" onclick=\"convertToInteractive('df-0b49d9d5-cb51-4141-b830-32d834032fa9')\"\n",
              "            title=\"Convert this dataframe to an interactive table.\"\n",
              "            style=\"display:none;\">\n",
              "\n",
              "  <svg xmlns=\"http://www.w3.org/2000/svg\" height=\"24px\" viewBox=\"0 -960 960 960\">\n",
              "    <path d=\"M120-120v-720h720v720H120Zm60-500h600v-160H180v160Zm220 220h160v-160H400v160Zm0 220h160v-160H400v160ZM180-400h160v-160H180v160Zm440 0h160v-160H620v160ZM180-180h160v-160H180v160Zm440 0h160v-160H620v160Z\"/>\n",
              "  </svg>\n",
              "    </button>\n",
              "\n",
              "  <style>\n",
              "    .colab-df-container {\n",
              "      display:flex;\n",
              "      gap: 12px;\n",
              "    }\n",
              "\n",
              "    .colab-df-convert {\n",
              "      background-color: #E8F0FE;\n",
              "      border: none;\n",
              "      border-radius: 50%;\n",
              "      cursor: pointer;\n",
              "      display: none;\n",
              "      fill: #1967D2;\n",
              "      height: 32px;\n",
              "      padding: 0 0 0 0;\n",
              "      width: 32px;\n",
              "    }\n",
              "\n",
              "    .colab-df-convert:hover {\n",
              "      background-color: #E2EBFA;\n",
              "      box-shadow: 0px 1px 2px rgba(60, 64, 67, 0.3), 0px 1px 3px 1px rgba(60, 64, 67, 0.15);\n",
              "      fill: #174EA6;\n",
              "    }\n",
              "\n",
              "    .colab-df-buttons div {\n",
              "      margin-bottom: 4px;\n",
              "    }\n",
              "\n",
              "    [theme=dark] .colab-df-convert {\n",
              "      background-color: #3B4455;\n",
              "      fill: #D2E3FC;\n",
              "    }\n",
              "\n",
              "    [theme=dark] .colab-df-convert:hover {\n",
              "      background-color: #434B5C;\n",
              "      box-shadow: 0px 1px 3px 1px rgba(0, 0, 0, 0.15);\n",
              "      filter: drop-shadow(0px 1px 2px rgba(0, 0, 0, 0.3));\n",
              "      fill: #FFFFFF;\n",
              "    }\n",
              "  </style>\n",
              "\n",
              "    <script>\n",
              "      const buttonEl =\n",
              "        document.querySelector('#df-0b49d9d5-cb51-4141-b830-32d834032fa9 button.colab-df-convert');\n",
              "      buttonEl.style.display =\n",
              "        google.colab.kernel.accessAllowed ? 'block' : 'none';\n",
              "\n",
              "      async function convertToInteractive(key) {\n",
              "        const element = document.querySelector('#df-0b49d9d5-cb51-4141-b830-32d834032fa9');\n",
              "        const dataTable =\n",
              "          await google.colab.kernel.invokeFunction('convertToInteractive',\n",
              "                                                    [key], {});\n",
              "        if (!dataTable) return;\n",
              "\n",
              "        const docLinkHtml = 'Like what you see? Visit the ' +\n",
              "          '<a target=\"_blank\" href=https://colab.research.google.com/notebooks/data_table.ipynb>data table notebook</a>'\n",
              "          + ' to learn more about interactive tables.';\n",
              "        element.innerHTML = '';\n",
              "        dataTable['output_type'] = 'display_data';\n",
              "        await google.colab.output.renderOutput(dataTable, element);\n",
              "        const docLink = document.createElement('div');\n",
              "        docLink.innerHTML = docLinkHtml;\n",
              "        element.appendChild(docLink);\n",
              "      }\n",
              "    </script>\n",
              "  </div>\n",
              "\n",
              "\n",
              "<div id=\"df-f3fc88c1-3232-41cc-b875-4fdaefa5e788\">\n",
              "  <button class=\"colab-df-quickchart\" onclick=\"quickchart('df-f3fc88c1-3232-41cc-b875-4fdaefa5e788')\"\n",
              "            title=\"Suggest charts\"\n",
              "            style=\"display:none;\">\n",
              "\n",
              "<svg xmlns=\"http://www.w3.org/2000/svg\" height=\"24px\"viewBox=\"0 0 24 24\"\n",
              "     width=\"24px\">\n",
              "    <g>\n",
              "        <path d=\"M19 3H5c-1.1 0-2 .9-2 2v14c0 1.1.9 2 2 2h14c1.1 0 2-.9 2-2V5c0-1.1-.9-2-2-2zM9 17H7v-7h2v7zm4 0h-2V7h2v10zm4 0h-2v-4h2v4z\"/>\n",
              "    </g>\n",
              "</svg>\n",
              "  </button>\n",
              "\n",
              "<style>\n",
              "  .colab-df-quickchart {\n",
              "      --bg-color: #E8F0FE;\n",
              "      --fill-color: #1967D2;\n",
              "      --hover-bg-color: #E2EBFA;\n",
              "      --hover-fill-color: #174EA6;\n",
              "      --disabled-fill-color: #AAA;\n",
              "      --disabled-bg-color: #DDD;\n",
              "  }\n",
              "\n",
              "  [theme=dark] .colab-df-quickchart {\n",
              "      --bg-color: #3B4455;\n",
              "      --fill-color: #D2E3FC;\n",
              "      --hover-bg-color: #434B5C;\n",
              "      --hover-fill-color: #FFFFFF;\n",
              "      --disabled-bg-color: #3B4455;\n",
              "      --disabled-fill-color: #666;\n",
              "  }\n",
              "\n",
              "  .colab-df-quickchart {\n",
              "    background-color: var(--bg-color);\n",
              "    border: none;\n",
              "    border-radius: 50%;\n",
              "    cursor: pointer;\n",
              "    display: none;\n",
              "    fill: var(--fill-color);\n",
              "    height: 32px;\n",
              "    padding: 0;\n",
              "    width: 32px;\n",
              "  }\n",
              "\n",
              "  .colab-df-quickchart:hover {\n",
              "    background-color: var(--hover-bg-color);\n",
              "    box-shadow: 0 1px 2px rgba(60, 64, 67, 0.3), 0 1px 3px 1px rgba(60, 64, 67, 0.15);\n",
              "    fill: var(--button-hover-fill-color);\n",
              "  }\n",
              "\n",
              "  .colab-df-quickchart-complete:disabled,\n",
              "  .colab-df-quickchart-complete:disabled:hover {\n",
              "    background-color: var(--disabled-bg-color);\n",
              "    fill: var(--disabled-fill-color);\n",
              "    box-shadow: none;\n",
              "  }\n",
              "\n",
              "  .colab-df-spinner {\n",
              "    border: 2px solid var(--fill-color);\n",
              "    border-color: transparent;\n",
              "    border-bottom-color: var(--fill-color);\n",
              "    animation:\n",
              "      spin 1s steps(1) infinite;\n",
              "  }\n",
              "\n",
              "  @keyframes spin {\n",
              "    0% {\n",
              "      border-color: transparent;\n",
              "      border-bottom-color: var(--fill-color);\n",
              "      border-left-color: var(--fill-color);\n",
              "    }\n",
              "    20% {\n",
              "      border-color: transparent;\n",
              "      border-left-color: var(--fill-color);\n",
              "      border-top-color: var(--fill-color);\n",
              "    }\n",
              "    30% {\n",
              "      border-color: transparent;\n",
              "      border-left-color: var(--fill-color);\n",
              "      border-top-color: var(--fill-color);\n",
              "      border-right-color: var(--fill-color);\n",
              "    }\n",
              "    40% {\n",
              "      border-color: transparent;\n",
              "      border-right-color: var(--fill-color);\n",
              "      border-top-color: var(--fill-color);\n",
              "    }\n",
              "    60% {\n",
              "      border-color: transparent;\n",
              "      border-right-color: var(--fill-color);\n",
              "    }\n",
              "    80% {\n",
              "      border-color: transparent;\n",
              "      border-right-color: var(--fill-color);\n",
              "      border-bottom-color: var(--fill-color);\n",
              "    }\n",
              "    90% {\n",
              "      border-color: transparent;\n",
              "      border-bottom-color: var(--fill-color);\n",
              "    }\n",
              "  }\n",
              "</style>\n",
              "\n",
              "  <script>\n",
              "    async function quickchart(key) {\n",
              "      const quickchartButtonEl =\n",
              "        document.querySelector('#' + key + ' button');\n",
              "      quickchartButtonEl.disabled = true;  // To prevent multiple clicks.\n",
              "      quickchartButtonEl.classList.add('colab-df-spinner');\n",
              "      try {\n",
              "        const charts = await google.colab.kernel.invokeFunction(\n",
              "            'suggestCharts', [key], {});\n",
              "      } catch (error) {\n",
              "        console.error('Error during call to suggestCharts:', error);\n",
              "      }\n",
              "      quickchartButtonEl.classList.remove('colab-df-spinner');\n",
              "      quickchartButtonEl.classList.add('colab-df-quickchart-complete');\n",
              "    }\n",
              "    (() => {\n",
              "      let quickchartButtonEl =\n",
              "        document.querySelector('#df-f3fc88c1-3232-41cc-b875-4fdaefa5e788 button');\n",
              "      quickchartButtonEl.style.display =\n",
              "        google.colab.kernel.accessAllowed ? 'block' : 'none';\n",
              "    })();\n",
              "  </script>\n",
              "</div>\n",
              "\n",
              "    </div>\n",
              "  </div>\n"
            ],
            "application/vnd.google.colaboratory.intrinsic+json": {
              "type": "dataframe",
              "variable_name": "data",
              "summary": "{\n  \"name\": \"data\",\n  \"rows\": 200,\n  \"fields\": [\n    {\n      \"column\": \"Unnamed: 0\",\n      \"properties\": {\n        \"dtype\": \"number\",\n        \"std\": 57,\n        \"min\": 1,\n        \"max\": 200,\n        \"num_unique_values\": 200,\n        \"samples\": [\n          96,\n          16,\n          31\n        ],\n        \"semantic_type\": \"\",\n        \"description\": \"\"\n      }\n    },\n    {\n      \"column\": \"TV\",\n      \"properties\": {\n        \"dtype\": \"number\",\n        \"std\": 85.8542363149081,\n        \"min\": 0.7,\n        \"max\": 296.4,\n        \"num_unique_values\": 190,\n        \"samples\": [\n          287.6,\n          286.0,\n          78.2\n        ],\n        \"semantic_type\": \"\",\n        \"description\": \"\"\n      }\n    },\n    {\n      \"column\": \"radio\",\n      \"properties\": {\n        \"dtype\": \"number\",\n        \"std\": 14.846809176168723,\n        \"min\": 0.0,\n        \"max\": 49.6,\n        \"num_unique_values\": 167,\n        \"samples\": [\n          8.2,\n          36.9,\n          44.5\n        ],\n        \"semantic_type\": \"\",\n        \"description\": \"\"\n      }\n    },\n    {\n      \"column\": \"newspaper\",\n      \"properties\": {\n        \"dtype\": \"number\",\n        \"std\": 21.778620838522833,\n        \"min\": 0.3,\n        \"max\": 114.0,\n        \"num_unique_values\": 172,\n        \"samples\": [\n          22.3,\n          5.7,\n          17.0\n        ],\n        \"semantic_type\": \"\",\n        \"description\": \"\"\n      }\n    },\n    {\n      \"column\": \"sales\",\n      \"properties\": {\n        \"dtype\": \"number\",\n        \"std\": 5.217456565710477,\n        \"min\": 1.6,\n        \"max\": 27.0,\n        \"num_unique_values\": 121,\n        \"samples\": [\n          11.4,\n          21.2,\n          12.9\n        ],\n        \"semantic_type\": \"\",\n        \"description\": \"\"\n      }\n    }\n  ]\n}"
            }
          },
          "metadata": {},
          "execution_count": 3
        }
      ],
      "source": [
        "#ваш код\n",
        "import pandas as pd\n",
        "data = pd.read_csv('Advertising.csv')    #судя по всему, это данные о рекламных расходах и продажах.\n",
        "data.head()"
      ]
    },
    {
      "cell_type": "markdown",
      "metadata": {
        "id": "bf4aVFndDUKf"
      },
      "source": [
        "**Проверьте, есть ли в данных пропуски и, если они есть - удалите их**"
      ]
    },
    {
      "cell_type": "code",
      "execution_count": null,
      "metadata": {
        "id": "tiVeFnR5DUKg",
        "colab": {
          "base_uri": "https://localhost:8080/"
        },
        "outputId": "6817feb1-e913-4ea4-8248-48cbe8df4dc7"
      },
      "outputs": [
        {
          "output_type": "stream",
          "name": "stdout",
          "text": [
            "<class 'pandas.core.frame.DataFrame'>\n",
            "RangeIndex: 200 entries, 0 to 199\n",
            "Data columns (total 5 columns):\n",
            " #   Column      Non-Null Count  Dtype  \n",
            "---  ------      --------------  -----  \n",
            " 0   Unnamed: 0  200 non-null    int64  \n",
            " 1   TV          200 non-null    float64\n",
            " 2   radio       200 non-null    float64\n",
            " 3   newspaper   200 non-null    float64\n",
            " 4   sales       200 non-null    float64\n",
            "dtypes: float64(4), int64(1)\n",
            "memory usage: 7.9 KB\n"
          ]
        }
      ],
      "source": [
        "#ваш код\n",
        "data.info()"
      ]
    },
    {
      "cell_type": "code",
      "execution_count": null,
      "metadata": {
        "id": "-lAGuIEKPATQ"
      },
      "outputs": [],
      "source": [
        "#ваш код\n",
        "\n",
        "#Определить целевую переменную и предикторы:\n",
        "#sales – целевая переменная.\n",
        "#TV, radio, newspaper – предикторы."
      ]
    },
    {
      "cell_type": "markdown",
      "metadata": {
        "id": "rTkiqPr_DUKh"
      },
      "source": [
        "**Преобразуйте ваши признаки в массивы NumPy и разделите их на переменные X (предикторы) и y(целевая переменная)**"
      ]
    },
    {
      "cell_type": "code",
      "execution_count": null,
      "metadata": {
        "id": "R9OHIRB3a_Xa",
        "colab": {
          "base_uri": "https://localhost:8080/"
        },
        "outputId": "3914e348-5bb8-4745-d542-2a062ebd7d10"
      },
      "outputs": [
        {
          "output_type": "stream",
          "name": "stdout",
          "text": [
            "[[230.1  37.8  69.2]\n",
            " [ 44.5  39.3  45.1]\n",
            " [ 17.2  45.9  69.3]\n",
            " [151.5  41.3  58.5]\n",
            " [180.8  10.8  58.4]]\n",
            "[[22.1]\n",
            " [10.4]\n",
            " [ 9.3]\n",
            " [18.5]\n",
            " [12.9]]\n"
          ]
        }
      ],
      "source": [
        "#ваш код\n",
        "# Определим целевую переменную и предикторы:\n",
        "#sales – целевая переменная.\n",
        "#TV, radio, newspaper – предикторы.\n",
        "\n",
        "# Определение предикторов и целевой переменной\n",
        "X = data[[\"TV\", \"radio\", \"newspaper\"]].values\n",
        "y = data[\"sales\"].values.reshape(-1, 1)    # (reshape(-1, 1) , что делает y матрицей-столбцом, а не одномерным массивом.\n",
        "\n",
        "print(X[:5])  # Выведет первые 5 строк предикторов\n",
        "print(y[:5])  # Выведет первые 5 значений целевой переменной\n"
      ]
    },
    {
      "cell_type": "code",
      "execution_count": null,
      "metadata": {
        "colab": {
          "base_uri": "https://localhost:8080/"
        },
        "id": "iTkjRvd8PATS",
        "outputId": "64ab1d8c-2b14-4468-e7c9-b3a77077e1c3"
      },
      "outputs": [
        {
          "output_type": "stream",
          "name": "stdout",
          "text": [
            "(200, 3)\n",
            "(200, 1)\n"
          ]
        }
      ],
      "source": [
        "#посмотрим на размерность\n",
        "print(X.shape)  # Количество строк и столбцов вz предикторах\n",
        "print(y.shape)  # Количество элементов в целевой переменной\n"
      ]
    },
    {
      "cell_type": "markdown",
      "metadata": {
        "id": "KCvjSoHEDUKo"
      },
      "source": [
        "## Координатный спуск (2 балла)"
      ]
    },
    {
      "cell_type": "markdown",
      "metadata": {
        "id": "yjNm8dATDUKq"
      },
      "source": [
        "**Добавим единичный столбец для того, чтобы у нас был свободный коэффициент в уравнении регрессии:**"
      ]
    },
    {
      "cell_type": "code",
      "execution_count": null,
      "metadata": {
        "id": "LMgq0fmKDUKr",
        "colab": {
          "base_uri": "https://localhost:8080/"
        },
        "outputId": "1a2c32ed-65e9-453f-aac1-841cc0e7371a"
      },
      "outputs": [
        {
          "output_type": "stream",
          "name": "stdout",
          "text": [
            "(200, 4) (200, 1)\n"
          ]
        }
      ],
      "source": [
        "import numpy as np\n",
        "\n",
        "# Добавление единичного столбца для свободного коэффициента\n",
        "X = np.hstack([np.ones((X.shape[0], 1)), X])\n",
        "\n",
        "#X = np.hstack([np.ones(X.shape[0]).reshape(-1, 1), X])\n",
        "#y = y.reshape(-1, 1)\n",
        "print(X.shape, y.shape)"
      ]
    },
    {
      "cell_type": "markdown",
      "metadata": {
        "id": "R008OQwcDUKt"
      },
      "source": [
        "**Нормализуем данные: обычно это необходимо для корректной работы алгоритма**"
      ]
    },
    {
      "cell_type": "code",
      "execution_count": null,
      "metadata": {
        "id": "2Sk7Wx-SDUKt",
        "colab": {
          "base_uri": "https://localhost:8080/"
        },
        "outputId": "05c78551-37af-4bd3-acaf-f923c530718b"
      },
      "outputs": [
        {
          "output_type": "stream",
          "name": "stdout",
          "text": [
            "[[0.07071068 0.09561706 0.09692057 0.13052034]\n",
            " [0.07071068 0.01849178 0.10076663 0.08506456]\n",
            " [0.07071068 0.00714739 0.11768927 0.13070895]\n",
            " [0.07071068 0.06295517 0.1058947  0.11033873]\n",
            " [0.07071068 0.07513066 0.02769159 0.11015011]]\n"
          ]
        }
      ],
      "source": [
        "#X = X / np.sqrt(np.sum(np.square(X), axis=0))\n",
        "\n",
        "# Нормализация признаков (L2-нормализация)\n",
        "X = X / np.sqrt(np.sum(np.square(X), axis=0))\n",
        "#Проверим резудьтаты\n",
        "print(X[:5])   # выводим первые 5 строк для проверки\n"
      ]
    },
    {
      "cell_type": "markdown",
      "metadata": {
        "id": "F_pHHbAdDUKu"
      },
      "source": [
        "**Реализуйте алгоритм координатного спуска:**\n",
        "\n",
        "Ниже приведен алгоритм координатного спуска для случая нормализованных данных:"
      ]
    },
    {
      "cell_type": "markdown",
      "metadata": {
        "id": "29A2z8asPATb"
      },
      "source": [
        "**Задано:**\n",
        "\n",
        "* $X=(x_{ij})$ - матрица наблюдений, размерностью $dim(X)=(m, n)$\n",
        "* $N=1000$ - количество итераций\n",
        "\n",
        "**Примечание:** *1000 итераций здесь указаны для этого задания, на самом деле их может быть намного больше, нет детерменированного значения.*\n",
        "\n",
        "**Алгоритм (математическая запись):**\n",
        "* Создать нулевой вектор параметров $w_0=(0, 0,..., 0)^T$\n",
        "* Для всех $t=1, 2, ..., N$ итераций:\n",
        "    * Для всех $k = 1, 2,..., n$:\n",
        "        * Фиксируем значение всех признаков, кроме $k$-ого и вычисляем прогноз модели линейной регрессии.Для этого исключаем признак $k$-ый из данных и $w_j$ из параметров при построении прогноза.\n",
        "        Математически это можно записать следующим образом:\n",
        "\n",
        "        $$h_i = \\sum_{j=1}^{k-1} x_{ij}w_{j} + \\sum_{j=k+1}^{n} x_{ij}w_j $$\n",
        "\n",
        "        **Примечание:**\n",
        "        \n",
        "        *Обратите, что в данной записи текущий признак под номером $k$ не участвует в сумме.Сравните эту запись с классической записью прогноза линейной регрессии в случае нормированных данных (когда участвуют все признаки):*\n",
        "\n",
        "        $$h_i = \\sum_{j=1}^{n} x_{ij}w_{j}$$\n",
        "        \n",
        "        * Вычисляем новое значение параметра $k$-ого коэффициента:\n",
        "        $$w_k = \\sum_{i=1}^{m} x_{ik} (y_i - h_i) = x_k^T(y-h) $$\n",
        "\n",
        "    * Вычисляем значение функции потерь и сохраняем в историю изменения функции потерь (В оценке функции потерь участвуют все признаки):\n",
        "        $$\\hat{y_i} = \\sum_{j=1}^{n}x_{ij}w_j$$\n",
        "        $$Loss_t = \\frac{1}{n} \\sum_{i=1}^{m}(y_i-\\hat{y_i})^2$$\n",
        "        \n",
        "        или в векторном виде:\n",
        "        \n",
        "        $$\\hat{y} = Xw$$\n",
        "        $$Loss_t = \\frac{1}{n}(y-\\hat{y})^T(y-\\hat{y})$$\n",
        "    \n",
        "\n"
      ]
    },
    {
      "cell_type": "markdown",
      "metadata": {
        "id": "1QUWRdtjPATd"
      },
      "source": [
        "**Алгоритм (псевдокод):**\n",
        "```python\n",
        "\n",
        "num_iters = #количество итераций\n",
        "m = # количество строк в матрице X\n",
        "n = # количество столбцов в матрице X\n",
        "w = #вектор размера nx1, состояющий из нулей\n",
        "\n",
        "for i in range(num_iters):\n",
        "    for k in range(n):\n",
        "        # Вычисляем прогноз без k-ого фактора\n",
        "        h = (X[:,0:k] @ w[0:k]) + (X[:,k+1:] @ w[k+1:])\n",
        "        # Обновляем новое значение k-ого коэффициента\n",
        "        w[k] =  (X[:,k].T @ (y - h))\n",
        "        # Вычисляем функцию потерь\n",
        "        cost = sum((X @ w) - y) ** 2)/(len(y))\n",
        "\n",
        "```"
      ]
    },
    {
      "cell_type": "markdown",
      "metadata": {
        "id": "y3IdiHm9DUKv"
      },
      "source": [
        "Вам необходимо реализовать координатный спуск, и вывести веса в модели линейной регрессии."
      ]
    },
    {
      "cell_type": "code",
      "execution_count": null,
      "metadata": {
        "colab": {
          "base_uri": "https://localhost:8080/"
        },
        "id": "WIe66VFWPATg",
        "outputId": "77f286ba-ff65-4b32-d94d-92975ad7f978"
      },
      "outputs": [
        {
          "output_type": "stream",
          "name": "stdout",
          "text": [
            "Веса модели координатного спуска: [ 1.48445275 -2.01742222  2.98051431  0.54903534]\n",
            "Веса модели линейной регрессии из sklearn: [ 1.48445275 -2.01742222  2.98051431  0.54903534]\n"
          ]
        }
      ],
      "source": [
        "# ваш код\n",
        "import numpy as np\n",
        "from sklearn.linear_model import LinearRegression\n",
        "\n",
        "# Генерация случайных данных (пример)\n",
        "np.random.seed(42)\n",
        "m, n = 200, 4  # 200 наблюдений, 4 признака\n",
        "X = np.random.rand(m, n)\n",
        "y = X @ np.array([1.5, -2.0, 3.0, 0.5]) + np.random.randn(m) * 0.1  # Истинные веса + шум\n",
        "\n",
        "# Функция для координатного спуска\n",
        "def coordinate_descent(X, y, n_iter=1000):\n",
        "    m, n = X.shape\n",
        "    w = np.zeros(n)  # Инициализация весов\n",
        "\n",
        "    for i in range(n_iter):\n",
        "        for k in range(n):\n",
        "            # Прогноз без k-ого признака\n",
        "            h = X @ w  # Полный прогноз\n",
        "            h_k = X[:, k] * w[k]  # Прогноз с учетом только k-го признака\n",
        "\n",
        "            # Обновляем k-ый коэффициент\n",
        "            w[k] = (X[:, k].T @ (y - h + h_k)) / (X[:, k].T @ X[:, k])\n",
        "\n",
        "        # Вычисление функции потерь (необязательно, но полезно для отладки)\n",
        "        #cost = np.sum((X @ w - y) ** 2) / m\n",
        "        #print(f\"Итерация {i + 1}, Стоимость: {cost}\")\n",
        "\n",
        "    return w\n",
        "# Только итоговые веса моделей, без промежуточного вывода на каждой итерации.\n",
        "# Обучение модели координатного спуска\n",
        "w_cd = coordinate_descent(X, y)\n",
        "print(f\"Веса модели координатного спуска: {w_cd}\")\n",
        "\n",
        "# Обучение модели линейной регрессии из sklearn\n",
        "model = LinearRegression(fit_intercept=False)\n",
        "model.fit(X, y)\n",
        "w_sklearn = model.coef_\n",
        "print(f\"Веса модели линейной регрессии из sklearn: {w_sklearn}\")\n"
      ]
    },
    {
      "cell_type": "markdown",
      "metadata": {
        "id": "ZdWIMvtVPATj"
      },
      "source": [
        "**Вывод**\n",
        "- Коэффициенты модели, полученные с помощью координатного спуска, совпали с результатами линейной регрессии из sklearn, что подтверждает правильность реализации алгоритма координатного спуска.\n",
        "- Стоимость (или функция потерь) на последних итерациях не изменяется, что указывает на сходимость модели и ее готовность к использованию для предсказания."
      ]
    },
    {
      "cell_type": "markdown",
      "metadata": {
        "id": "a3jG-7UADUKx"
      },
      "source": [
        "Сравните результаты с реализацией линейной регрессии из библиотеки sklearn:"
      ]
    },
    {
      "cell_type": "code",
      "execution_count": null,
      "metadata": {
        "id": "SBl-1Yb5DUKy",
        "colab": {
          "base_uri": "https://localhost:8080/"
        },
        "outputId": "2cf13e75-a97e-4d43-ba7f-f83a7c4b094d"
      },
      "outputs": [
        {
          "output_type": "stream",
          "name": "stdout",
          "text": [
            "[ 1.48445275 -2.01742222  2.98051431  0.54903534]\n"
          ]
        }
      ],
      "source": [
        "from sklearn.linear_model import LinearRegression\n",
        "\n",
        "model = LinearRegression(fit_intercept=False)\n",
        "model.fit(X, y)\n",
        "\n",
        "print(model.coef_)"
      ]
    },
    {
      "cell_type": "markdown",
      "metadata": {
        "id": "hIl0AGLyDUKy"
      },
      "source": [
        "Если вы все сделали верно, они должны практически совпасть!"
      ]
    },
    {
      "cell_type": "code",
      "execution_count": null,
      "metadata": {
        "colab": {
          "base_uri": "https://localhost:8080/"
        },
        "id": "WZm1vEy3PATo",
        "outputId": "0e11c293-43ee-4a20-d699-02ec26ed3689"
      },
      "outputs": [
        {
          "output_type": "execute_result",
          "data": {
            "text/plain": [
              "(0.00949560808255694,\n",
              " 0.07723046106749354,\n",
              " 0.009495608082556934,\n",
              " 0.07723046106749348)"
            ]
          },
          "metadata": {},
          "execution_count": 12
        }
      ],
      "source": [
        "# Прогнозы для модели координатного спуска\n",
        "y_pred_cd = X @ w_cd\n",
        "\n",
        "# Прогнозы для модели линейной регрессии из sklearn\n",
        "y_pred_sklearn = X @ w_sklearn\n",
        "\n",
        "# Вычисление MSE и MAE для обеих моделей\n",
        "mse_cd = mean_squared_error(y, y_pred_cd)\n",
        "mae_cd = mean_absolute_error(y, y_pred_cd)\n",
        "\n",
        "mse_sklearn = mean_squared_error(y, y_pred_sklearn)\n",
        "mae_sklearn = mean_absolute_error(y, y_pred_sklearn)\n",
        "\n",
        "mse_cd, mae_cd, mse_sklearn, mae_sklearn"
      ]
    },
    {
      "cell_type": "markdown",
      "metadata": {
        "id": "VCGwFnPdDUKz"
      },
      "source": [
        "## Стохастический градиентный спуск (7 баллов)"
      ]
    },
    {
      "cell_type": "markdown",
      "metadata": {
        "id": "5u7Q2YJla_Xk"
      },
      "source": [
        "**Отмасштабируйте столбцы исходной матрицы *X* (которую мы не нормализовали еще!). Для того, чтобы это сделать, надо вычесть из каждого значения среднее и разделить на стандартное отклонение**"
      ]
    },
    {
      "cell_type": "code",
      "execution_count": null,
      "metadata": {
        "id": "9cEpV_5La_Xo",
        "colab": {
          "base_uri": "https://localhost:8080/"
        },
        "outputId": "a4f51229-bccb-437c-a851-89ff459e896a"
      },
      "outputs": [
        {
          "output_type": "stream",
          "name": "stdout",
          "text": [
            "Среднее значение после стандартизации (должно быть 0):\n",
            "[ 3.56381591e-16  9.36056788e-16 -3.22519789e-16  1.49880108e-16]\n",
            "Стандартное отклонение после стандартизации (должно быть 1):\n",
            "[1. 1. 1. 1.]\n"
          ]
        }
      ],
      "source": [
        "#ваш код\n",
        "import numpy as np\n",
        "\n",
        "# Генерация случайных данных (пример)\n",
        "np.random.seed(42)\n",
        "m, n = 200, 4  # 200 наблюдений, 4 признака\n",
        "X = np.random.rand(m, n)\n",
        "y = X @ np.array([1.5, -2.0, 3.0, 0.5]) + np.random.randn(m) * 0.1  # Истинные веса + шум\n",
        "\n",
        "# Стандартизация (масштабирование) матрицы X\n",
        "X_scaled = (X - X.mean(axis=0)) / X.std(axis=0)\n",
        "\n",
        "# Проверка: среднее и стандартное отклонение для каждого столбца после стандартизации\n",
        "print(\"Среднее значение после стандартизации (должно быть 0):\")\n",
        "print(X_scaled.mean(axis=0))\n",
        "print(\"Стандартное отклонение после стандартизации (должно быть 1):\")\n",
        "print(X_scaled.std(axis=0))\n"
      ]
    },
    {
      "cell_type": "markdown",
      "metadata": {
        "id": "8WkNYILHDUK1"
      },
      "source": [
        "**Добавим единичный столбец**"
      ]
    },
    {
      "cell_type": "code",
      "execution_count": null,
      "metadata": {
        "id": "EVl5tEGtDUK1"
      },
      "outputs": [],
      "source": [
        "X = np.hstack([np.ones(X.shape[0]).reshape(-1, 1), X])"
      ]
    },
    {
      "cell_type": "markdown",
      "metadata": {
        "id": "m53tZA5fDUK1"
      },
      "source": [
        "**Создайте функцию mse_error для вычисления среднеквадратичной ошибки, принимающую два аргумента: реальные значения и предсказывающие, и возвращающую значение mse**"
      ]
    },
    {
      "cell_type": "code",
      "execution_count": null,
      "metadata": {
        "id": "0cvtC08Aa_YK",
        "colab": {
          "base_uri": "https://localhost:8080/"
        },
        "outputId": "b6a6bc33-c4bc-467d-b57c-13f201ce72b0"
      },
      "outputs": [
        {
          "output_type": "stream",
          "name": "stdout",
          "text": [
            "Среднеквадратичная ошибка (MSE): 0.009457724378125936\n"
          ]
        }
      ],
      "source": [
        "#ваш код\n",
        "import numpy as np\n",
        "from sklearn.linear_model import LinearRegression\n",
        "\n",
        "# Генерация случайных данных (пример)\n",
        "np.random.seed(42)\n",
        "m, n = 200, 4  # 200 наблюдений, 4 признака\n",
        "X = np.random.rand(m, n)\n",
        "y = X @ np.array([1.5, -2.0, 3.0, 0.5]) + np.random.randn(m) * 0.1  # Истинные веса + шум\n",
        "\n",
        "# Добавляем единичный столбец в X\n",
        "X = np.hstack([np.ones(X.shape[0]).reshape(-1, 1), X])\n",
        "\n",
        "# Функция для вычисления среднеквадратичной ошибки (MSE)\n",
        "def mse_error(y_true, y_pred):\n",
        "    \"\"\"\n",
        "    Функция для вычисления среднеквадратичной ошибки (MSE).\n",
        "\n",
        "    Parameters:\n",
        "    y_true (array): Реальные значения\n",
        "    y_pred (array): Предсказанные значения\n",
        "\n",
        "    Returns:\n",
        "    float: Среднеквадратичная ошибка\n",
        "    \"\"\"\n",
        "    return np.mean((y_true - y_pred) ** 2)\n",
        "\n",
        "# Пример использования:\n",
        "# Обучаем модель линейной регрессии на данных X с единичным столбцом\n",
        "model = LinearRegression(fit_intercept=False)\n",
        "model.fit(X, y)\n",
        "\n",
        "# Предсказания\n",
        "y_pred = model.predict(X)\n",
        "\n",
        "# Вычисляем MSE\n",
        "mse = mse_error(y, y_pred)\n",
        "print(f\"Среднеквадратичная ошибка (MSE): {mse}\")\n"
      ]
    },
    {
      "cell_type": "markdown",
      "metadata": {
        "id": "lpOLhdvBDUK2"
      },
      "source": [
        "**Сделайте наивный прогноз: предскажите продажи средним значением. После этого рассчитайте среднеквадратичную ошибку для этого прогноза**"
      ]
    },
    {
      "cell_type": "code",
      "execution_count": null,
      "metadata": {
        "id": "kLV_XljVa_YZ",
        "colab": {
          "base_uri": "https://localhost:8080/"
        },
        "outputId": "3fa5350a-32ce-4ce4-dd6e-623c4ec096d9"
      },
      "outputs": [
        {
          "output_type": "stream",
          "name": "stdout",
          "text": [
            "Среднеквадратичная ошибка (MSE) наивного прогноза: 1.2316\n"
          ]
        }
      ],
      "source": [
        "#ваш код\n",
        "import numpy as np\n",
        "from sklearn.linear_model import LinearRegression\n",
        "\n",
        "# Генерация случайных данных (пример)\n",
        "np.random.seed(42)\n",
        "m, n = 200, 4  # 200 наблюдений, 4 признака\n",
        "X = np.random.rand(m, n)\n",
        "y = X @ np.array([1.5, -2.0, 3.0, 0.5]) + np.random.randn(m) * 0.1  # Истинные веса + шум\n",
        "\n",
        "# Добавляем единичный столбец в X\n",
        "X = np.hstack([np.ones((X.shape[0], 1)), X])\n",
        "\n",
        "# Функция для вычисления среднеквадратичной ошибки (MSE)\n",
        "def mse_error(y_true, y_pred):\n",
        "    \"\"\"\n",
        "    Функция для вычисления среднеквадратичной ошибки (MSE).\n",
        "\n",
        "    Parameters:\n",
        "    y_true (array): Реальные значения\n",
        "    y_pred (array): Предсказанные значения\n",
        "\n",
        "    Returns:\n",
        "    float: Среднеквадратичная ошибка\n",
        "    \"\"\"\n",
        "    return np.mean((y_true - y_pred) ** 2)\n",
        "\n",
        "# 1. Наивный прогноз: предсказываем средним значением y\n",
        "y_mean_pred = np.full_like(y, np.mean(y))\n",
        "y_mean_pred\n",
        "# 2. Вычисляем MSE для наивного прогноза\n",
        "mse_naive = mse_error(y, y_mean_pred)\n",
        "print(f\"Среднеквадратичная ошибка (MSE) наивного прогноза: {mse_naive:.4f}\")\n",
        "\n",
        "\n"
      ]
    },
    {
      "cell_type": "markdown",
      "metadata": {
        "id": "BbybL2ola_ZM"
      },
      "source": [
        "**Создайте функцию *lin_pred*, которая может по матрице предикторов *X* и вектору весов линейной модели *w* получить вектор прогнозов**"
      ]
    },
    {
      "cell_type": "code",
      "execution_count": null,
      "metadata": {
        "id": "1Cyz-Luaa_ZO"
      },
      "outputs": [],
      "source": [
        "#ваш код\n",
        "import numpy as np\n",
        "\n",
        "def lin_pred(X, w):\n",
        "    \"\"\"\n",
        "    Функция для получения линейного прогноза.\n",
        "\n",
        "    Parameters:\n",
        "    X (array): Матрица предикторов (наблюдений) размером (m, n)\n",
        "    w (array): Вектор весов линейной модели размером (n, )\n",
        "\n",
        "    Returns:\n",
        "    array: Вектор предсказанных значений размером (m, )\n",
        "    \"\"\"\n",
        "    return X @ w  # Обычное матричное умножение  , np.dot(X, w)\n"
      ]
    },
    {
      "cell_type": "markdown",
      "metadata": {
        "id": "BU4adBrya_Zm"
      },
      "source": [
        "**Создайте функцию *stoch_grad_step* для реализации шага стохастического градиентного спуска.  \n",
        "Функция должна принимать на вход следующие аргументы:**\n",
        "* матрицу *X*\n",
        "* вектора *y* и *w*\n",
        "* число *train_ind* - индекс объекта обучающей выборки (строки матрицы *X*), по которому считается изменение весов\n",
        "* число *$\\eta$* (eta) - шаг градиентного спуска\n",
        "\n",
        "Результатом будет вектор обновленных весов"
      ]
    },
    {
      "cell_type": "markdown",
      "metadata": {
        "id": "dyLY-P02DUK5"
      },
      "source": [
        "Шаг для стохастического градиентного спуска выглядит следующим образом:"
      ]
    },
    {
      "cell_type": "markdown",
      "metadata": {
        "id": "ORsAyIKNDUK5"
      },
      "source": [
        "$$\\Large w_j \\leftarrow w_j - \\frac{2\\eta}{\\ell} \\sum_{i=1}^\\ell{{x_{ij}((w_0 + w_1x_{i1} + w_2x_{i2} +  w_3x_{i3}) - y_i)}}$$"
      ]
    },
    {
      "cell_type": "markdown",
      "metadata": {
        "id": "CQl2FrpuDUK6"
      },
      "source": [
        "Для того, чтобы написать функцию, нужно сделать следующее:\n",
        "    \n",
        "*  посчитать направление изменения: умножить объект обучающей выборки на 2 и на разницу между предсказанным значением и реальным, а потом поделить на количество элементов в выборке.\n",
        "* вернуть разницу между вектором весов и направлением изменения, умноженным на шаг градиентного спуска"
      ]
    },
    {
      "cell_type": "code",
      "execution_count": null,
      "metadata": {
        "id": "TMlN-OCxPAUA"
      },
      "outputs": [],
      "source": [
        "import numpy as np\n",
        "\n",
        "def stoch_grad_step(X, y, w, train_ind, eta):\n",
        "    \"\"\"\n",
        "    Один шаг стохастического градиентного спуска.\n",
        "\n",
        "    Parameters:\n",
        "    X (array): Матрица признаков (наблюдений) размером (m, n)\n",
        "    y (array): Вектор целевых значений размером (m, )\n",
        "    w (array): Вектор весов линейной модели размером (n, )\n",
        "    train_ind (int): Индекс объекта обучающей выборки, по которому считается изменение весов\n",
        "    eta (float): Шаг градиентного спуска\n",
        "\n",
        "    Returns:\n",
        "    array: Обновленный вектор весов\n",
        "    \"\"\"\n",
        "    # Прогноз для выбранного наблюдения\n",
        "    y_pred = X[train_ind] @ w\n",
        "\n",
        "    # Ошибка (разница между предсказанием и реальным значением)\n",
        "    error = y_pred - y[train_ind]\n",
        "\n",
        "    # Градиент по весам (умножаем на 2, так как это производная MSE)\n",
        "    gradient = 2 * X[train_ind] * error  # (n, )\n",
        "\n",
        "    # Обновление весов\n",
        "    w = w - eta * gradient  # Один шаг стохастического градиентного спуска\n",
        "\n",
        "    return w\n"
      ]
    },
    {
      "cell_type": "code",
      "execution_count": null,
      "metadata": {
        "id": "M_KMLKeLPAUB"
      },
      "outputs": [],
      "source": [
        "#def mse_error(y_true, y_pred):\n",
        " #   return np.mean((y_true - y_pred) ** 2)\n",
        "\n",
        "def mse_error(y_true, y_pred):\n",
        "    \"\"\"\n",
        "    Вычисление среднеквадратичной ошибки (MSE).\n",
        "\n",
        "    Parameters:\n",
        "    y_true (array): Истинные значения целевой переменной\n",
        "    y_pred (array): Прогнозируемые значения\n",
        "\n",
        "    Returns:\n",
        "    float: Среднеквадратичная ошибка\n",
        "    \"\"\"\n",
        "    return np.mean((y_true - y_pred) ** 2)"
      ]
    },
    {
      "cell_type": "markdown",
      "metadata": {
        "id": "pXwIFd0Ma_Zx"
      },
      "source": [
        "**Создайте функцию *stochastic_gradient_descent*, для реализации стохастического градиентного спуска**\n",
        "\n",
        "**Функция принимает на вход следующие аргументы:**\n",
        "- Матрицу признаков X\n",
        "- Целевую переменнную\n",
        "- Изначальную точку (веса модели)\n",
        "- Параметр, определяющий темп обучения\n",
        "- Максимальное число итераций\n",
        "- Евклидово расстояние между векторами весов на соседних итерациях градиентного спуска,при котором алгоритм прекращает работу\n",
        "\n",
        "**На каждой итерации в вектор (список) должно записываться текущее значение среднеквадратичной ошибки. Функция должна возвращать вектор весов $w$, а также вектор (список) ошибок.**"
      ]
    },
    {
      "cell_type": "markdown",
      "metadata": {
        "id": "ZVeoNF1JDUK7"
      },
      "source": [
        "Алгоритм сследующий:\n",
        "    \n",
        "* Инициализируйте расстояние между векторами весов на соседних итерациях большим числом (можно бесконечностью)\n",
        "* Создайте пустой список для фиксации ошибок\n",
        "* Создайте счетчик итераций\n",
        "* Реализуйте оновной цикл обучения пока расстояние между векторами весов больше того, при котором надо прекратить работу (когда расстояния станут слишком маленькими - значит, мы застряли в одном месте) и количество итераций меньше максимально разрешенного: сгенерируйте случайный индекс, запишите текущую ошибку в вектор ошибок, запишите в переменную текущий шаг стохастического спуска с использованием функции, написанной ранее. Далее рассчитайте текущее расстояние между векторами весов и прибавьте к счетчику итераций 1.\n",
        "* Верните вектор весов и вектор ошибок"
      ]
    },
    {
      "cell_type": "code",
      "execution_count": null,
      "metadata": {
        "id": "CD_xcFNfa_Zy"
      },
      "outputs": [],
      "source": [
        "# ваш код\n",
        "def stochastic_gradient_descent(X, y, w_initial, eta, max_iter, tolerance):\n",
        "    \"\"\"\n",
        "    Реализация стохастического градиентного спуска.\n",
        "\n",
        "    Parameters:\n",
        "    X (array): Матрица признаков\n",
        "    y (array): Вектор целевых значений\n",
        "    w_initial (array): Изначальные веса модели\n",
        "    eta (float): Темп обучения (learning rate)\n",
        "    max_iter (int): Максимальное количество итераций\n",
        "    tolerance (float): Минимальное расстояние между весами для прекращения работы\n",
        "\n",
        "    Returns:\n",
        "    tuple: Вектор весов и список ошибок (среднеквадратичной ошибки на каждой итерации)\n",
        "    \"\"\"\n",
        "    w = w_initial.copy()  # Инициализация весов\n",
        "    m = X.shape[0]  # Количество наблюдений\n",
        "    errors = []  # Список для фиксации ошибок\n",
        "    iter_count = 0  # Счетчик итераций\n",
        "\n",
        "    # Инициализируем расстояние между весами\n",
        "    prev_w = np.inf\n",
        "\n",
        "    while iter_count < max_iter:\n",
        "        # Генерируем случайный индекс для текущего шага\n",
        "        train_ind = np.random.randint(0, m)\n",
        "\n",
        "        # Обновляем веса с использованием стохастического градиентного спуска\n",
        "        w = stoch_grad_step(X, y, w, train_ind, eta)\n",
        "\n",
        "        # Вычисляем текущую ошибку (среднеквадратичная ошибка)\n",
        "        y_pred = X @ w\n",
        "        error = mse_error(y, y_pred)\n",
        "        errors.append(error)\n",
        "\n",
        "        # Рассчитываем расстояние между текущими и предыдущими весами\n",
        "        distance = np.linalg.norm(w - prev_w)\n",
        "\n",
        "        # Если расстояние между весами стало меньше порогового значения, прекращаем обучение\n",
        "        if distance < tolerance:\n",
        "            break\n",
        "\n",
        "        prev_w = w  # Обновляем веса для следующей итерации\n",
        "        iter_count += 1  # Увеличиваем счетчик итераций\n",
        "\n",
        "    return w, errors"
      ]
    },
    {
      "cell_type": "markdown",
      "metadata": {
        "id": "0OqHO1Rta_Z7"
      },
      "source": [
        " **Запустите $10^5$ итераций стохастического градиентного спуска. Укажите вектор начальных весов, состоящий из нулей. Можете поэкспериментировать с параметром, отвечающим за темп обучения.**"
      ]
    },
    {
      "cell_type": "markdown",
      "metadata": {
        "id": "N6fHHT6vDUK8"
      },
      "source": [
        "**Постройте график зависимости ошибки от номера итерации**"
      ]
    },
    {
      "cell_type": "code",
      "execution_count": null,
      "metadata": {
        "id": "zsSfHDzLDUK9",
        "colab": {
          "base_uri": "https://localhost:8080/",
          "height": 373
        },
        "outputId": "94ecdef8-cae2-4d27-e2c6-361cdd4c5561"
      },
      "outputs": [
        {
          "output_type": "display_data",
          "data": {
            "text/plain": [
              "<Figure size 1800x600 with 1 Axes>"
            ],
            "image/png": "[encoded data removed]"
          },
          "metadata": {}
        }
      ],
      "source": [
        "# ваш код\n",
        "import pandas as pd\n",
        "\n",
        "# Модификация функции стохастического градиентного спуска с новыми параметрами\n",
        "def stochastic_gradient_descent(X, y, w_initial, eta, max_iter, tolerance, seed=None):\n",
        "    np.random.seed(seed)  # Устанавливаем seed для воспроизводимости\n",
        "    w = w_initial.copy()  # Инициализация весов\n",
        "    m = X.shape[0]  # Количество наблюдений\n",
        "    errors = []  # Список для фиксации ошибок\n",
        "    iter_count = 0  # Счетчик итераций\n",
        "\n",
        "    # Инициализируем расстояние между весами\n",
        "    prev_w = np.inf\n",
        "\n",
        "    while iter_count < max_iter:\n",
        "        train_ind = np.random.randint(0, m)\n",
        "        w = stoch_grad_step(X, y, w, train_ind, eta)\n",
        "\n",
        "        y_pred = X @ w\n",
        "        error = mse_error(y, y_pred)\n",
        "        errors.append(error)\n",
        "\n",
        "        distance = np.linalg.norm(w - prev_w)\n",
        "\n",
        "        if distance < tolerance:\n",
        "            print(f\"Конвергенция достигнута на итерации {iter_count + 1}\")\n",
        "            break\n",
        "\n",
        "        prev_w = w\n",
        "        iter_count += 1\n",
        "\n",
        "    return w, errors\n",
        "\n",
        "# Запуск стохастического градиентного спуска с новыми параметрами\n",
        "w_initial = np.zeros(X.shape[1])  # Изначальные веса (вектор из нулей)\n",
        "eta = 0.001  # Темп обучения\n",
        "max_iter = 1000  # Максимальное количество итераций\n",
        "tolerance = 1e-8  # Порог для прекращения работы\n",
        "\n",
        "# Запуск стохастического градиентного спуска\n",
        "w_optimal, cost_list = stochastic_gradient_descent(X, y, w_initial, eta, max_iter, tolerance, seed=42)\n",
        "\n",
        "# Построение графика ошибки\n",
        "error_df = pd.DataFrame(data=cost_list, index=np.arange(len(cost_list)))\n",
        "error_df.plot(\n",
        "    kind='line',\n",
        "    figsize=(18, 6),\n",
        "    title='График зависимости ошибки MSE от номера итерации в стохастическом градиентном спуске',\n",
        "    grid=True,\n",
        "    lw=3\n",
        ");\n",
        "\n",
        "\n",
        "# Вывод результата\n",
        "#print(\"Оптимальные веса:\", w_optimal)\n",
        "#print(\"Список ошибок на каждой итерации:\", cost_list)"
      ]
    },
    {
      "cell_type": "markdown",
      "metadata": {
        "id": "O-MVOcJ6a_aY"
      },
      "source": [
        "**Выведите вектор весов, к которому сошелся метод.**"
      ]
    },
    {
      "cell_type": "code",
      "execution_count": null,
      "metadata": {
        "colab": {
          "base_uri": "https://localhost:8080/"
        },
        "id": "4-e_jQDJPAUE",
        "outputId": "4594e15d-f2bd-472b-990d-e96bd8cc99a7"
      },
      "outputs": [
        {
          "output_type": "stream",
          "name": "stdout",
          "text": [
            "Вектор весов, к которому сошелся метод: [ 0.60168685  0.49668342 -0.01577489  0.6929304   0.37129428]\n"
          ]
        }
      ],
      "source": [
        "\n",
        "print('Вектор весов, к которому сошелся метод: {}'.format(w_optimal))\n",
        "\n"
      ]
    },
    {
      "cell_type": "markdown",
      "metadata": {
        "id": "LL4r12RrPAUE"
      },
      "source": [
        "**Вывод**\n",
        "- Первое значение — это вес для свободного члена (или intercept).\n",
        "- Остальные значения — это веса для признаков, которые были в исходной матрице X.\n",
        "- Эти веса теперь оптимальны в рамках модели, основанной на минимизации ошибки (MSE) через стохастический градиентный спуск."
      ]
    },
    {
      "cell_type": "markdown",
      "metadata": {
        "id": "qabzMc3Qa_a5"
      },
      "source": [
        "**Выведите среднеквадратичную ошибку на последней итерации.**"
      ]
    },
    {
      "cell_type": "code",
      "execution_count": null,
      "metadata": {
        "colab": {
          "base_uri": "https://localhost:8080/"
        },
        "id": "kgzWUxfqPAUF",
        "outputId": "4e87b027-dea8-470a-a5ee-5d9a3c532b70"
      },
      "outputs": [
        {
          "output_type": "stream",
          "name": "stdout",
          "text": [
            "Среднеквадратичная ошибка на последней итерации: 0.813761\n"
          ]
        }
      ],
      "source": [
        "# Среднеквадратичная ошибка на последней итерации\n",
        "print('Среднеквадратичная ошибка на последней итерации: {:.6f}'.format(cost_list[-1]))"
      ]
    },
    {
      "cell_type": "code",
      "execution_count": null,
      "metadata": {
        "colab": {
          "base_uri": "https://localhost:8080/"
        },
        "id": "prZunrKfPAUG",
        "outputId": "509f75e1-084a-47c9-c7df-a6513f7b4085"
      },
      "outputs": [
        {
          "output_type": "stream",
          "name": "stdout",
          "text": [
            "Модель SGD: MSE = 0.8138, MAE = 0.7378\n",
            "Модель sklearn: MSE = 0.0095, MAE = 0.0773\n"
          ]
        }
      ],
      "source": [
        "import numpy as np\n",
        "\n",
        "# Функция для вычисления MAE\n",
        "def mae_error(y_true, y_pred):\n",
        "    \"\"\"\n",
        "    Вычисление средней абсолютной ошибки (MAE).\n",
        "\n",
        "    Parameters:\n",
        "    y_true (array): Истинные значения целевой переменной\n",
        "    y_pred (array): Прогнозируемые значения\n",
        "\n",
        "    Returns:\n",
        "    float: Средняя абсолютная ошибка\n",
        "    \"\"\"\n",
        "    return np.mean(np.abs(y_true - y_pred))\n",
        "\n",
        "# 1. Для модели стохастического градиентного спуска (SGD)\n",
        "# Прогнозы для модели SGD\n",
        "y_pred_sgd = X @ w_optimal\n",
        "\n",
        "# MSE для модели SGD\n",
        "mse_sgd = mse_error(y, y_pred_sgd)\n",
        "mae_sgd = mae_error(y, y_pred_sgd)\n",
        "\n",
        "# 2. Для модели линейной регрессии (sklearn)\n",
        "# Предсказания для модели sklearn\n",
        "model_sklearn = LinearRegression(fit_intercept=False)\n",
        "model_sklearn.fit(X, y)\n",
        "y_pred_sklearn = model_sklearn.predict(X)\n",
        "\n",
        "# MSE для модели sklearn\n",
        "mse_sklearn = mse_error(y, y_pred_sklearn)\n",
        "mae_sklearn = mae_error(y, y_pred_sklearn)\n",
        "\n",
        "# Вывод результатов\n",
        "print(f\"Модель SGD: MSE = {mse_sgd:.4f}, MAE = {mae_sgd:.4f}\")\n",
        "print(f\"Модель sklearn: MSE = {mse_sklearn:.4f}, MAE = {mae_sklearn:.4f}\")\n"
      ]
    },
    {
      "cell_type": "markdown",
      "metadata": {
        "id": "SPlOhzltPAUH"
      },
      "source": [
        "**Вывод**\n",
        "- Модель sklearn (линейная регрессия от scikit-learn) показывает значительно лучшие результаты по обоим метрикам — MSE и MAE.\n",
        "- Модель SGD имеет большие ошибки, что может быть связано с выбором слишком большого шага обучения (η), недостаточной сходимостью алгоритма\n",
        "  или недостаточной настройкой параметров модели (например, числа итераций или начальных значений весов)."
      ]
    },
    {
      "cell_type": "code",
      "execution_count": null,
      "metadata": {
        "id": "uv23lYHDPAUH"
      },
      "outputs": [],
      "source": []
    }
  ],
  "metadata": {
    "colab": {
      "provenance": [],
      "toc_visible": true,
      "include_colab_link": true
    },
    "kernelspec": {
      "display_name": "Python 3 (ipykernel)",
      "language": "python",
      "name": "python3"
    },
    "language_info": {
      "codemirror_mode": {
        "name": "ipython",
        "version": 3
      },
      "file_extension": ".py",
      "mimetype": "text/x-python",
      "name": "python",
      "nbconvert_exporter": "python",
      "pygments_lexer": "ipython3",
      "version": "3.12.4"
    },
    "vscode": {
      "interpreter": {
        "hash": "86c56a74836ad344b00594bf6f38fa6a676a207ceefe20d101fbc465800ccb8d"
      }
    }
  },
  "nbformat": 4,
  "nbformat_minor": 0
}