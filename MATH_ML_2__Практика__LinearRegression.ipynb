{
  "cells": [
    {
      "cell_type": "markdown",
      "metadata": {
        "id": "view-in-github",
        "colab_type": "text"
      },
      "source": [
        "<a href=\"https://colab.research.google.com/github/Jul-Summer/ML/blob/main/MATH_ML_2__%D0%9F%D1%80%D0%B0%D0%BA%D1%82%D0%B8%D0%BA%D0%B0__LinearRegression.ipynb\" target=\"_parent\"><img src=\"https://colab.research.google.com/assets/colab-badge.svg\" alt=\"Open In Colab\"/></a>"
      ]
    },
    {
      "cell_type": "markdown",
      "id": "b054bd88",
      "metadata": {
        "id": "b054bd88"
      },
      "source": [
        "# <center> Линейная алгебра в контексте линейных методов. Практика.\n",
        "\n",
        "## <center> Прогнозирование выработки газа на скважинах."
      ]
    },
    {
      "cell_type": "markdown",
      "id": "325bc80b",
      "metadata": {
        "id": "325bc80b"
      },
      "source": [
        "## Постановка задачи"
      ]
    },
    {
      "cell_type": "markdown",
      "id": "8247bd54",
      "metadata": {
        "id": "8247bd54"
      },
      "source": [
        "У Василия, основателя компании «Газ-Таз-Ваз-Нефть», дела идут в гору: у него уже функционирует 200 скважин для добычи газа. В этом году он открывает 30 новых скважин. Однако в целях оптимизации расходов и повышения дохода Василию необходимо оценить, сколько денег будет приносить ему каждая из скважин, а также понять, какие факторы (параметры скважин) потенциально сильнее всего повлияют на объём добычи газа. Для этого Василий решил нанять вас как специалиста в области Data Science.\n",
        "\n",
        "Василий представляет вам набор данных о добыче газа на своих скважинах. Файл с данными вы можете скачать на платформе.\n",
        "\n",
        "**Признаки в данных:**\n",
        "\n",
        "* Well — идентификатор скважины;\n",
        "* Por — пористость скважины (%);\n",
        "* Perm — проницаемость скважины;\n",
        "* AI — акустический импеданс ($кг/м^2 * 10^6$);\n",
        "* Brittle — коэффициент хрупкости скважины (%);\n",
        "* TOC — общий органический углерод (%);\n",
        "* VR — коэффициент отражения витринита (%);\n",
        "* Prod — добыча газа в сутки (млн. кубических футов).\n",
        "\n",
        "**Ваша задача** — построить регрессионную модель, которая прогнозирует выработку газа на скважине (целевой признак — Prod) на основе остальных характеристик скважины, и проинтерпретировать результаты вашей модели.\n",
        "\n",
        "Разделим задачу на две части:\n",
        "* В первой мы построим простейшую модель линейной регрессии, проанализируем результаты её работы и выберем наиболее значимые факторы для прогнозирования.\n",
        "* Во второй мы займёмся построением модели полиномиальной регрессии с регуляризацией и посмотрим на итоговые результаты моделирования.\n"
      ]
    },
    {
      "cell_type": "markdown",
      "id": "d67d069e",
      "metadata": {
        "id": "d67d069e"
      },
      "source": [
        "Импортируем необходимые библиотеки:"
      ]
    },
    {
      "cell_type": "code",
      "execution_count": 35,
      "id": "83a555bc-8dff-4b7e-bba1-cd4f4a9e69b2",
      "metadata": {
        "id": "83a555bc-8dff-4b7e-bba1-cd4f4a9e69b2"
      },
      "outputs": [],
      "source": [
        "# Импорт библиотек\n",
        "import pandas as pd  # Работа с таблицами\n",
        "import numpy as np  # Математические операции\n",
        "import matplotlib.pyplot as plt  # Визуализация данных\n",
        "import seaborn as sns  # Улучшенная визуализация\n",
        "from sklearn.model_selection import train_test_split  # Разделение данных\n",
        "from sklearn.linear_model import LinearRegression  # Линейная регрессия\n",
        "from sklearn.metrics import mean_absolute_error, mean_squared_error  # Оценка модели\n",
        "\n",
        "%matplotlib inline"
      ]
    },
    {
      "cell_type": "code",
      "source": [
        "from google.colab import files\n",
        "uploaded = files.upload()"
      ],
      "metadata": {
        "colab": {
          "base_uri": "https://localhost:8080/",
          "height": 73
        },
        "id": "c5FVr-w_TI7l",
        "outputId": "d4ddd089-3eb8-4bd4-fda8-0a22dacddd69"
      },
      "id": "c5FVr-w_TI7l",
      "execution_count": 15,
      "outputs": [
        {
          "output_type": "display_data",
          "data": {
            "text/plain": [
              "<IPython.core.display.HTML object>"
            ],
            "text/html": [
              "\n",
              "     <input type=\"file\" id=\"files-e17ef0e3-22fa-4cac-b60f-d0e48b19fbab\" name=\"files[]\" multiple disabled\n",
              "        style=\"border:none\" />\n",
              "     <output id=\"result-e17ef0e3-22fa-4cac-b60f-d0e48b19fbab\">\n",
              "      Upload widget is only available when the cell has been executed in the\n",
              "      current browser session. Please rerun this cell to enable.\n",
              "      </output>\n",
              "      <script>// Copyright 2017 Google LLC\n",
              "//\n",
              "// Licensed under the Apache License, Version 2.0 (the \"License\");\n",
              "// you may not use this file except in compliance with the License.\n",
              "// You may obtain a copy of the License at\n",
              "//\n",
              "//      http://www.apache.org/licenses/LICENSE-2.0\n",
              "//\n",
              "// Unless required by applicable law or agreed to in writing, software\n",
              "// distributed under the License is distributed on an \"AS IS\" BASIS,\n",
              "// WITHOUT WARRANTIES OR CONDITIONS OF ANY KIND, either express or implied.\n",
              "// See the License for the specific language governing permissions and\n",
              "// limitations under the License.\n",
              "\n",
              "/**\n",
              " * @fileoverview Helpers for google.colab Python module.\n",
              " */\n",
              "(function(scope) {\n",
              "function span(text, styleAttributes = {}) {\n",
              "  const element = document.createElement('span');\n",
              "  element.textContent = text;\n",
              "  for (const key of Object.keys(styleAttributes)) {\n",
              "    element.style[key] = styleAttributes[key];\n",
              "  }\n",
              "  return element;\n",
              "}\n",
              "\n",
              "// Max number of bytes which will be uploaded at a time.\n",
              "const MAX_PAYLOAD_SIZE = 100 * 1024;\n",
              "\n",
              "function _uploadFiles(inputId, outputId) {\n",
              "  const steps = uploadFilesStep(inputId, outputId);\n",
              "  const outputElement = document.getElementById(outputId);\n",
              "  // Cache steps on the outputElement to make it available for the next call\n",
              "  // to uploadFilesContinue from Python.\n",
              "  outputElement.steps = steps;\n",
              "\n",
              "  return _uploadFilesContinue(outputId);\n",
              "}\n",
              "\n",
              "// This is roughly an async generator (not supported in the browser yet),\n",
              "// where there are multiple asynchronous steps and the Python side is going\n",
              "// to poll for completion of each step.\n",
              "// This uses a Promise to block the python side on completion of each step,\n",
              "// then passes the result of the previous step as the input to the next step.\n",
              "function _uploadFilesContinue(outputId) {\n",
              "  const outputElement = document.getElementById(outputId);\n",
              "  const steps = outputElement.steps;\n",
              "\n",
              "  const next = steps.next(outputElement.lastPromiseValue);\n",
              "  return Promise.resolve(next.value.promise).then((value) => {\n",
              "    // Cache the last promise value to make it available to the next\n",
              "    // step of the generator.\n",
              "    outputElement.lastPromiseValue = value;\n",
              "    return next.value.response;\n",
              "  });\n",
              "}\n",
              "\n",
              "/**\n",
              " * Generator function which is called between each async step of the upload\n",
              " * process.\n",
              " * @param {string} inputId Element ID of the input file picker element.\n",
              " * @param {string} outputId Element ID of the output display.\n",
              " * @return {!Iterable<!Object>} Iterable of next steps.\n",
              " */\n",
              "function* uploadFilesStep(inputId, outputId) {\n",
              "  const inputElement = document.getElementById(inputId);\n",
              "  inputElement.disabled = false;\n",
              "\n",
              "  const outputElement = document.getElementById(outputId);\n",
              "  outputElement.innerHTML = '';\n",
              "\n",
              "  const pickedPromise = new Promise((resolve) => {\n",
              "    inputElement.addEventListener('change', (e) => {\n",
              "      resolve(e.target.files);\n",
              "    });\n",
              "  });\n",
              "\n",
              "  const cancel = document.createElement('button');\n",
              "  inputElement.parentElement.appendChild(cancel);\n",
              "  cancel.textContent = 'Cancel upload';\n",
              "  const cancelPromise = new Promise((resolve) => {\n",
              "    cancel.onclick = () => {\n",
              "      resolve(null);\n",
              "    };\n",
              "  });\n",
              "\n",
              "  // Wait for the user to pick the files.\n",
              "  const files = yield {\n",
              "    promise: Promise.race([pickedPromise, cancelPromise]),\n",
              "    response: {\n",
              "      action: 'starting',\n",
              "    }\n",
              "  };\n",
              "\n",
              "  cancel.remove();\n",
              "\n",
              "  // Disable the input element since further picks are not allowed.\n",
              "  inputElement.disabled = true;\n",
              "\n",
              "  if (!files) {\n",
              "    return {\n",
              "      response: {\n",
              "        action: 'complete',\n",
              "      }\n",
              "    };\n",
              "  }\n",
              "\n",
              "  for (const file of files) {\n",
              "    const li = document.createElement('li');\n",
              "    li.append(span(file.name, {fontWeight: 'bold'}));\n",
              "    li.append(span(\n",
              "        `(${file.type || 'n/a'}) - ${file.size} bytes, ` +\n",
              "        `last modified: ${\n",
              "            file.lastModifiedDate ? file.lastModifiedDate.toLocaleDateString() :\n",
              "                                    'n/a'} - `));\n",
              "    const percent = span('0% done');\n",
              "    li.appendChild(percent);\n",
              "\n",
              "    outputElement.appendChild(li);\n",
              "\n",
              "    const fileDataPromise = new Promise((resolve) => {\n",
              "      const reader = new FileReader();\n",
              "      reader.onload = (e) => {\n",
              "        resolve(e.target.result);\n",
              "      };\n",
              "      reader.readAsArrayBuffer(file);\n",
              "    });\n",
              "    // Wait for the data to be ready.\n",
              "    let fileData = yield {\n",
              "      promise: fileDataPromise,\n",
              "      response: {\n",
              "        action: 'continue',\n",
              "      }\n",
              "    };\n",
              "\n",
              "    // Use a chunked sending to avoid message size limits. See b/62115660.\n",
              "    let position = 0;\n",
              "    do {\n",
              "      const length = Math.min(fileData.byteLength - position, MAX_PAYLOAD_SIZE);\n",
              "      const chunk = new Uint8Array(fileData, position, length);\n",
              "      position += length;\n",
              "\n",
              "      const base64 = btoa(String.fromCharCode.apply(null, chunk));\n",
              "      yield {\n",
              "        response: {\n",
              "          action: 'append',\n",
              "          file: file.name,\n",
              "          data: base64,\n",
              "        },\n",
              "      };\n",
              "\n",
              "      let percentDone = fileData.byteLength === 0 ?\n",
              "          100 :\n",
              "          Math.round((position / fileData.byteLength) * 100);\n",
              "      percent.textContent = `${percentDone}% done`;\n",
              "\n",
              "    } while (position < fileData.byteLength);\n",
              "  }\n",
              "\n",
              "  // All done.\n",
              "  yield {\n",
              "    response: {\n",
              "      action: 'complete',\n",
              "    }\n",
              "  };\n",
              "}\n",
              "\n",
              "scope.google = scope.google || {};\n",
              "scope.google.colab = scope.google.colab || {};\n",
              "scope.google.colab._files = {\n",
              "  _uploadFiles,\n",
              "  _uploadFilesContinue,\n",
              "};\n",
              "})(self);\n",
              "</script> "
            ]
          },
          "metadata": {}
        },
        {
          "output_type": "stream",
          "name": "stdout",
          "text": [
            "Saving unconv.csv to unconv (1).csv\n"
          ]
        }
      ]
    },
    {
      "cell_type": "markdown",
      "id": "e689ddaf",
      "metadata": {
        "id": "e689ddaf"
      },
      "source": [
        "Прочитаем исходные данные:"
      ]
    },
    {
      "cell_type": "code",
      "execution_count": 34,
      "id": "b7b5cd9b-703f-4dbc-a6e3-61d583eafcac",
      "metadata": {
        "colab": {
          "base_uri": "https://localhost:8080/",
          "height": 206
        },
        "id": "b7b5cd9b-703f-4dbc-a6e3-61d583eafcac",
        "outputId": "c2a22bc0-fb7c-4bc7-e752-735751121e7e"
      },
      "outputs": [
        {
          "output_type": "execute_result",
          "data": {
            "text/plain": [
              "   Well    Por  Perm    AI  Brittle   TOC    VR         Prod\n",
              "0     1  12.08  2.92  2.80    81.40  1.16  2.31  4165.196191\n",
              "1     2  12.38  3.53  3.22    46.17  0.89  1.88  3561.146205\n",
              "2     3  14.02  2.59  4.01    72.80  0.89  2.72  4284.348574\n",
              "3     4  17.67  6.75  2.63    39.81  1.08  1.88  5098.680869\n",
              "4     5  17.52  4.57  3.18    10.94  1.51  1.90  3406.132832"
            ],
            "text/html": [
              "\n",
              "  <div id=\"df-f558de8e-40ff-439a-8db9-19644beb728d\" class=\"colab-df-container\">\n",
              "    <div>\n",
              "<style scoped>\n",
              "    .dataframe tbody tr th:only-of-type {\n",
              "        vertical-align: middle;\n",
              "    }\n",
              "\n",
              "    .dataframe tbody tr th {\n",
              "        vertical-align: top;\n",
              "    }\n",
              "\n",
              "    .dataframe thead th {\n",
              "        text-align: right;\n",
              "    }\n",
              "</style>\n",
              "<table border=\"1\" class=\"dataframe\">\n",
              "  <thead>\n",
              "    <tr style=\"text-align: right;\">\n",
              "      <th></th>\n",
              "      <th>Well</th>\n",
              "      <th>Por</th>\n",
              "      <th>Perm</th>\n",
              "      <th>AI</th>\n",
              "      <th>Brittle</th>\n",
              "      <th>TOC</th>\n",
              "      <th>VR</th>\n",
              "      <th>Prod</th>\n",
              "    </tr>\n",
              "  </thead>\n",
              "  <tbody>\n",
              "    <tr>\n",
              "      <th>0</th>\n",
              "      <td>1</td>\n",
              "      <td>12.08</td>\n",
              "      <td>2.92</td>\n",
              "      <td>2.80</td>\n",
              "      <td>81.40</td>\n",
              "      <td>1.16</td>\n",
              "      <td>2.31</td>\n",
              "      <td>4165.196191</td>\n",
              "    </tr>\n",
              "    <tr>\n",
              "      <th>1</th>\n",
              "      <td>2</td>\n",
              "      <td>12.38</td>\n",
              "      <td>3.53</td>\n",
              "      <td>3.22</td>\n",
              "      <td>46.17</td>\n",
              "      <td>0.89</td>\n",
              "      <td>1.88</td>\n",
              "      <td>3561.146205</td>\n",
              "    </tr>\n",
              "    <tr>\n",
              "      <th>2</th>\n",
              "      <td>3</td>\n",
              "      <td>14.02</td>\n",
              "      <td>2.59</td>\n",
              "      <td>4.01</td>\n",
              "      <td>72.80</td>\n",
              "      <td>0.89</td>\n",
              "      <td>2.72</td>\n",
              "      <td>4284.348574</td>\n",
              "    </tr>\n",
              "    <tr>\n",
              "      <th>3</th>\n",
              "      <td>4</td>\n",
              "      <td>17.67</td>\n",
              "      <td>6.75</td>\n",
              "      <td>2.63</td>\n",
              "      <td>39.81</td>\n",
              "      <td>1.08</td>\n",
              "      <td>1.88</td>\n",
              "      <td>5098.680869</td>\n",
              "    </tr>\n",
              "    <tr>\n",
              "      <th>4</th>\n",
              "      <td>5</td>\n",
              "      <td>17.52</td>\n",
              "      <td>4.57</td>\n",
              "      <td>3.18</td>\n",
              "      <td>10.94</td>\n",
              "      <td>1.51</td>\n",
              "      <td>1.90</td>\n",
              "      <td>3406.132832</td>\n",
              "    </tr>\n",
              "  </tbody>\n",
              "</table>\n",
              "</div>\n",
              "    <div class=\"colab-df-buttons\">\n",
              "\n",
              "  <div class=\"colab-df-container\">\n",
              "    <button class=\"colab-df-convert\" onclick=\"convertToInteractive('df-f558de8e-40ff-439a-8db9-19644beb728d')\"\n",
              "            title=\"Convert this dataframe to an interactive table.\"\n",
              "            style=\"display:none;\">\n",
              "\n",
              "  <svg xmlns=\"http://www.w3.org/2000/svg\" height=\"24px\" viewBox=\"0 -960 960 960\">\n",
              "    <path d=\"M120-120v-720h720v720H120Zm60-500h600v-160H180v160Zm220 220h160v-160H400v160Zm0 220h160v-160H400v160ZM180-400h160v-160H180v160Zm440 0h160v-160H620v160ZM180-180h160v-160H180v160Zm440 0h160v-160H620v160Z\"/>\n",
              "  </svg>\n",
              "    </button>\n",
              "\n",
              "  <style>\n",
              "    .colab-df-container {\n",
              "      display:flex;\n",
              "      gap: 12px;\n",
              "    }\n",
              "\n",
              "    .colab-df-convert {\n",
              "      background-color: #E8F0FE;\n",
              "      border: none;\n",
              "      border-radius: 50%;\n",
              "      cursor: pointer;\n",
              "      display: none;\n",
              "      fill: #1967D2;\n",
              "      height: 32px;\n",
              "      padding: 0 0 0 0;\n",
              "      width: 32px;\n",
              "    }\n",
              "\n",
              "    .colab-df-convert:hover {\n",
              "      background-color: #E2EBFA;\n",
              "      box-shadow: 0px 1px 2px rgba(60, 64, 67, 0.3), 0px 1px 3px 1px rgba(60, 64, 67, 0.15);\n",
              "      fill: #174EA6;\n",
              "    }\n",
              "\n",
              "    .colab-df-buttons div {\n",
              "      margin-bottom: 4px;\n",
              "    }\n",
              "\n",
              "    [theme=dark] .colab-df-convert {\n",
              "      background-color: #3B4455;\n",
              "      fill: #D2E3FC;\n",
              "    }\n",
              "\n",
              "    [theme=dark] .colab-df-convert:hover {\n",
              "      background-color: #434B5C;\n",
              "      box-shadow: 0px 1px 3px 1px rgba(0, 0, 0, 0.15);\n",
              "      filter: drop-shadow(0px 1px 2px rgba(0, 0, 0, 0.3));\n",
              "      fill: #FFFFFF;\n",
              "    }\n",
              "  </style>\n",
              "\n",
              "    <script>\n",
              "      const buttonEl =\n",
              "        document.querySelector('#df-f558de8e-40ff-439a-8db9-19644beb728d button.colab-df-convert');\n",
              "      buttonEl.style.display =\n",
              "        google.colab.kernel.accessAllowed ? 'block' : 'none';\n",
              "\n",
              "      async function convertToInteractive(key) {\n",
              "        const element = document.querySelector('#df-f558de8e-40ff-439a-8db9-19644beb728d');\n",
              "        const dataTable =\n",
              "          await google.colab.kernel.invokeFunction('convertToInteractive',\n",
              "                                                    [key], {});\n",
              "        if (!dataTable) return;\n",
              "\n",
              "        const docLinkHtml = 'Like what you see? Visit the ' +\n",
              "          '<a target=\"_blank\" href=https://colab.research.google.com/notebooks/data_table.ipynb>data table notebook</a>'\n",
              "          + ' to learn more about interactive tables.';\n",
              "        element.innerHTML = '';\n",
              "        dataTable['output_type'] = 'display_data';\n",
              "        await google.colab.output.renderOutput(dataTable, element);\n",
              "        const docLink = document.createElement('div');\n",
              "        docLink.innerHTML = docLinkHtml;\n",
              "        element.appendChild(docLink);\n",
              "      }\n",
              "    </script>\n",
              "  </div>\n",
              "\n",
              "\n",
              "<div id=\"df-f4afaadf-23df-4301-85ff-1bd28ca9a9a6\">\n",
              "  <button class=\"colab-df-quickchart\" onclick=\"quickchart('df-f4afaadf-23df-4301-85ff-1bd28ca9a9a6')\"\n",
              "            title=\"Suggest charts\"\n",
              "            style=\"display:none;\">\n",
              "\n",
              "<svg xmlns=\"http://www.w3.org/2000/svg\" height=\"24px\"viewBox=\"0 0 24 24\"\n",
              "     width=\"24px\">\n",
              "    <g>\n",
              "        <path d=\"M19 3H5c-1.1 0-2 .9-2 2v14c0 1.1.9 2 2 2h14c1.1 0 2-.9 2-2V5c0-1.1-.9-2-2-2zM9 17H7v-7h2v7zm4 0h-2V7h2v10zm4 0h-2v-4h2v4z\"/>\n",
              "    </g>\n",
              "</svg>\n",
              "  </button>\n",
              "\n",
              "<style>\n",
              "  .colab-df-quickchart {\n",
              "      --bg-color: #E8F0FE;\n",
              "      --fill-color: #1967D2;\n",
              "      --hover-bg-color: #E2EBFA;\n",
              "      --hover-fill-color: #174EA6;\n",
              "      --disabled-fill-color: #AAA;\n",
              "      --disabled-bg-color: #DDD;\n",
              "  }\n",
              "\n",
              "  [theme=dark] .colab-df-quickchart {\n",
              "      --bg-color: #3B4455;\n",
              "      --fill-color: #D2E3FC;\n",
              "      --hover-bg-color: #434B5C;\n",
              "      --hover-fill-color: #FFFFFF;\n",
              "      --disabled-bg-color: #3B4455;\n",
              "      --disabled-fill-color: #666;\n",
              "  }\n",
              "\n",
              "  .colab-df-quickchart {\n",
              "    background-color: var(--bg-color);\n",
              "    border: none;\n",
              "    border-radius: 50%;\n",
              "    cursor: pointer;\n",
              "    display: none;\n",
              "    fill: var(--fill-color);\n",
              "    height: 32px;\n",
              "    padding: 0;\n",
              "    width: 32px;\n",
              "  }\n",
              "\n",
              "  .colab-df-quickchart:hover {\n",
              "    background-color: var(--hover-bg-color);\n",
              "    box-shadow: 0 1px 2px rgba(60, 64, 67, 0.3), 0 1px 3px 1px rgba(60, 64, 67, 0.15);\n",
              "    fill: var(--button-hover-fill-color);\n",
              "  }\n",
              "\n",
              "  .colab-df-quickchart-complete:disabled,\n",
              "  .colab-df-quickchart-complete:disabled:hover {\n",
              "    background-color: var(--disabled-bg-color);\n",
              "    fill: var(--disabled-fill-color);\n",
              "    box-shadow: none;\n",
              "  }\n",
              "\n",
              "  .colab-df-spinner {\n",
              "    border: 2px solid var(--fill-color);\n",
              "    border-color: transparent;\n",
              "    border-bottom-color: var(--fill-color);\n",
              "    animation:\n",
              "      spin 1s steps(1) infinite;\n",
              "  }\n",
              "\n",
              "  @keyframes spin {\n",
              "    0% {\n",
              "      border-color: transparent;\n",
              "      border-bottom-color: var(--fill-color);\n",
              "      border-left-color: var(--fill-color);\n",
              "    }\n",
              "    20% {\n",
              "      border-color: transparent;\n",
              "      border-left-color: var(--fill-color);\n",
              "      border-top-color: var(--fill-color);\n",
              "    }\n",
              "    30% {\n",
              "      border-color: transparent;\n",
              "      border-left-color: var(--fill-color);\n",
              "      border-top-color: var(--fill-color);\n",
              "      border-right-color: var(--fill-color);\n",
              "    }\n",
              "    40% {\n",
              "      border-color: transparent;\n",
              "      border-right-color: var(--fill-color);\n",
              "      border-top-color: var(--fill-color);\n",
              "    }\n",
              "    60% {\n",
              "      border-color: transparent;\n",
              "      border-right-color: var(--fill-color);\n",
              "    }\n",
              "    80% {\n",
              "      border-color: transparent;\n",
              "      border-right-color: var(--fill-color);\n",
              "      border-bottom-color: var(--fill-color);\n",
              "    }\n",
              "    90% {\n",
              "      border-color: transparent;\n",
              "      border-bottom-color: var(--fill-color);\n",
              "    }\n",
              "  }\n",
              "</style>\n",
              "\n",
              "  <script>\n",
              "    async function quickchart(key) {\n",
              "      const quickchartButtonEl =\n",
              "        document.querySelector('#' + key + ' button');\n",
              "      quickchartButtonEl.disabled = true;  // To prevent multiple clicks.\n",
              "      quickchartButtonEl.classList.add('colab-df-spinner');\n",
              "      try {\n",
              "        const charts = await google.colab.kernel.invokeFunction(\n",
              "            'suggestCharts', [key], {});\n",
              "      } catch (error) {\n",
              "        console.error('Error during call to suggestCharts:', error);\n",
              "      }\n",
              "      quickchartButtonEl.classList.remove('colab-df-spinner');\n",
              "      quickchartButtonEl.classList.add('colab-df-quickchart-complete');\n",
              "    }\n",
              "    (() => {\n",
              "      let quickchartButtonEl =\n",
              "        document.querySelector('#df-f4afaadf-23df-4301-85ff-1bd28ca9a9a6 button');\n",
              "      quickchartButtonEl.style.display =\n",
              "        google.colab.kernel.accessAllowed ? 'block' : 'none';\n",
              "    })();\n",
              "  </script>\n",
              "</div>\n",
              "\n",
              "    </div>\n",
              "  </div>\n"
            ],
            "application/vnd.google.colaboratory.intrinsic+json": {
              "type": "dataframe",
              "variable_name": "df",
              "summary": "{\n  \"name\": \"df\",\n  \"rows\": 200,\n  \"fields\": [\n    {\n      \"column\": \"Well\",\n      \"properties\": {\n        \"dtype\": \"number\",\n        \"std\": 57,\n        \"min\": 1,\n        \"max\": 200,\n        \"num_unique_values\": 200,\n        \"samples\": [\n          96,\n          16,\n          31\n        ],\n        \"semantic_type\": \"\",\n        \"description\": \"\"\n      }\n    },\n    {\n      \"column\": \"Por\",\n      \"properties\": {\n        \"dtype\": \"number\",\n        \"std\": 2.971176471640172,\n        \"min\": 6.55,\n        \"max\": 23.55,\n        \"num_unique_values\": 188,\n        \"samples\": [\n          11.95,\n          12.94,\n          14.73\n        ],\n        \"semantic_type\": \"\",\n        \"description\": \"\"\n      }\n    },\n    {\n      \"column\": \"Perm\",\n      \"properties\": {\n        \"dtype\": \"number\",\n        \"std\": 1.7310141499817924,\n        \"min\": 1.13,\n        \"max\": 9.87,\n        \"num_unique_values\": 110,\n        \"samples\": [\n          2.48,\n          4.39,\n          4.57\n        ],\n        \"semantic_type\": \"\",\n        \"description\": \"\"\n      }\n    },\n    {\n      \"column\": \"AI\",\n      \"properties\": {\n        \"dtype\": \"number\",\n        \"std\": 0.5668853255834102,\n        \"min\": 1.28,\n        \"max\": 4.63,\n        \"num_unique_values\": 128,\n        \"samples\": [\n          2.25,\n          2.56,\n          2.38\n        ],\n        \"semantic_type\": \"\",\n        \"description\": \"\"\n      }\n    },\n    {\n      \"column\": \"Brittle\",\n      \"properties\": {\n        \"dtype\": \"number\",\n        \"std\": 14.129454914411664,\n        \"min\": 10.94,\n        \"max\": 84.33,\n        \"num_unique_values\": 195,\n        \"samples\": [\n          56.29,\n          35.49,\n          56.09\n        ],\n        \"semantic_type\": \"\",\n        \"description\": \"\"\n      }\n    },\n    {\n      \"column\": \"TOC\",\n      \"properties\": {\n        \"dtype\": \"number\",\n        \"std\": 0.48158792775650433,\n        \"min\": -0.19,\n        \"max\": 2.18,\n        \"num_unique_values\": 120,\n        \"samples\": [\n          1.24,\n          1.97,\n          0.94\n        ],\n        \"semantic_type\": \"\",\n        \"description\": \"\"\n      }\n    },\n    {\n      \"column\": \"VR\",\n      \"properties\": {\n        \"dtype\": \"number\",\n        \"std\": 0.3008271845676094,\n        \"min\": 0.93,\n        \"max\": 2.87,\n        \"num_unique_values\": 95,\n        \"samples\": [\n          2.42,\n          2.04,\n          2.08\n        ],\n        \"semantic_type\": \"\",\n        \"description\": \"\"\n      }\n    },\n    {\n      \"column\": \"Prod\",\n      \"properties\": {\n        \"dtype\": \"number\",\n        \"std\": 992.0384140187238,\n        \"min\": 2107.139414,\n        \"max\": 6662.622385,\n        \"num_unique_values\": 200,\n        \"samples\": [\n          5350.949293,\n          3539.984263,\n          5859.748328\n        ],\n        \"semantic_type\": \"\",\n        \"description\": \"\"\n      }\n    }\n  ]\n}"
            }
          },
          "metadata": {},
          "execution_count": 34
        }
      ],
      "source": [
        "df = pd.read_csv('unconv.csv')\n",
        "df.head()"
      ]
    },
    {
      "cell_type": "markdown",
      "id": "58639b40",
      "metadata": {
        "id": "58639b40"
      },
      "source": [
        "## Практика: линейная регрессия по методу наименьших квадратов"
      ]
    },
    {
      "cell_type": "markdown",
      "id": "a90535b8",
      "metadata": {
        "id": "a90535b8"
      },
      "source": [
        "Для начала построим простейшую модель линейной регрессии, проанализируем результаты её работы и выберем наиболее значимые факторы для прогнозирования.\n",
        "\n",
        "В первой части вам предстоит выполнить задания 5.0–5.6. Максимальное количество баллов, которое можно получить, — 9."
      ]
    },
    {
      "cell_type": "markdown",
      "id": "4061b706",
      "metadata": {
        "id": "4061b706"
      },
      "source": [
        "### Задание 5.0. (не оценивается)\n",
        "\n",
        "Проведите небольшой разведывательный анализ, чтобы поближе познакомиться с исходными данными. Постройте несколько визуализаций, которые помогут вам понять, как устроены исходные признаки, а также смогут продемонстрировать взаимосвязь факторов.\n",
        "\n",
        "Сделайте промежуточные выводы из проведённого разведывательного анализа."
      ]
    },
    {
      "cell_type": "code",
      "execution_count": 36,
      "id": "daf1ccc7",
      "metadata": {
        "id": "daf1ccc7",
        "colab": {
          "base_uri": "https://localhost:8080/"
        },
        "outputId": "7e925ee3-705e-4412-9f62-7082f9d088da"
      },
      "outputs": [
        {
          "output_type": "stream",
          "name": "stdout",
          "text": [
            "<class 'pandas.core.frame.DataFrame'>\n",
            "RangeIndex: 200 entries, 0 to 199\n",
            "Data columns (total 8 columns):\n",
            " #   Column   Non-Null Count  Dtype  \n",
            "---  ------   --------------  -----  \n",
            " 0   Well     200 non-null    int64  \n",
            " 1   Por      200 non-null    float64\n",
            " 2   Perm     200 non-null    float64\n",
            " 3   AI       200 non-null    float64\n",
            " 4   Brittle  200 non-null    float64\n",
            " 5   TOC      200 non-null    float64\n",
            " 6   VR       200 non-null    float64\n",
            " 7   Prod     200 non-null    float64\n",
            "dtypes: float64(7), int64(1)\n",
            "memory usage: 12.6 KB\n",
            "None\n",
            "             Well         Por        Perm          AI     Brittle         TOC  \\\n",
            "count  200.000000  200.000000  200.000000  200.000000  200.000000  200.000000   \n",
            "mean   100.500000   14.991150    4.330750    2.968850   48.161950    0.990450   \n",
            "std     57.879185    2.971176    1.731014    0.566885   14.129455    0.481588   \n",
            "min      1.000000    6.550000    1.130000    1.280000   10.940000   -0.190000   \n",
            "25%     50.750000   12.912500    3.122500    2.547500   37.755000    0.617500   \n",
            "50%    100.500000   15.070000    4.035000    2.955000   49.510000    1.030000   \n",
            "75%    150.250000   17.402500    5.287500    3.345000   58.262500    1.350000   \n",
            "max    200.000000   23.550000    9.870000    4.630000   84.330000    2.180000   \n",
            "\n",
            "               VR         Prod  \n",
            "count  200.000000   200.000000  \n",
            "mean     1.964300  4311.219852  \n",
            "std      0.300827   992.038414  \n",
            "min      0.930000  2107.139414  \n",
            "25%      1.770000  3618.064513  \n",
            "50%      1.960000  4284.687348  \n",
            "75%      2.142500  5086.089761  \n",
            "max      2.870000  6662.622385  \n",
            "Well       0\n",
            "Por        0\n",
            "Perm       0\n",
            "AI         0\n",
            "Brittle    0\n",
            "TOC        0\n",
            "VR         0\n",
            "Prod       0\n",
            "dtype: int64\n"
          ]
        }
      ],
      "source": [
        "# Ваш код здесь\n",
        "print(df.info())  # Проверим типы данных\n",
        "print(df.describe())  # Выведем основные статистики\n",
        "print(df.isnull().sum())  # Подсчёт пропусков\n"
      ]
    },
    {
      "cell_type": "code",
      "source": [
        "#Визуализируем зависимость Prod от других признаков:\n",
        "sns.pairplot(df, x_vars=['Por', 'Perm', 'AI', 'Brittle', 'TOC', 'VR'], y_vars='Prod', kind='reg')\n",
        "plt.show()\n"
      ],
      "metadata": {
        "colab": {
          "base_uri": "https://localhost:8080/",
          "height": 234
        },
        "id": "K4xco2fYUky7",
        "outputId": "c7b35c4f-fd90-496c-a9a1-4995f8df2c19"
      },
      "id": "K4xco2fYUky7",
      "execution_count": 38,
      "outputs": [
        {
          "output_type": "display_data",
          "data": {
            "text/plain": [
              "<Figure size 1500x250 with 6 Axes>"
            ],
            "image/png": "[encoded data removed]"
          },
          "metadata": {}
        }
      ]
    },
    {
      "cell_type": "code",
      "source": [
        "#Построим корреляционную матрицу:\n",
        "plt.figure(figsize=(10, 6))\n",
        "sns.heatmap(df.corr(), annot=True, cmap='coolwarm', fmt=\".2f\")\n",
        "plt.title(\"Корреляционная матрица\")\n",
        "plt.show()\n"
      ],
      "metadata": {
        "colab": {
          "base_uri": "https://localhost:8080/",
          "height": 545
        },
        "id": "QJco_t2sU_3f",
        "outputId": "63bc01c8-0952-4add-9c16-043a26f309d1"
      },
      "id": "QJco_t2sU_3f",
      "execution_count": 39,
      "outputs": [
        {
          "output_type": "display_data",
          "data": {
            "text/plain": [
              "<Figure size 1000x600 with 2 Axes>"
            ],
            "image/png": "[encoded data removed]"
          },
          "metadata": {}
        }
      ]
    },
    {
      "cell_type": "markdown",
      "id": "d11cb44f",
      "metadata": {
        "id": "d11cb44f"
      },
      "source": [
        "### Задание 5.1. (2 балла)\n",
        "\n",
        "Постройте корреляционную матрицу факторов, включив в неё целевой признак.\n",
        "\n",
        "Для наглядности визуализируйте полученную матрицу с помощью тепловой карты.\n",
        "\n",
        "**Примечание.** *Для визуализации вы можете использовать любую из знакомых вам библиотек.*\n",
        "\n",
        "На основе построенной корреляционной матрицы ответьте на следующий вопрос:\n",
        "\n",
        "* Какие факторы сильнее всего коррелируют с целевой переменной?\n",
        "\n",
        "Вычислите ранг и определитель полученной матрицы корреляций и приведите развёрнутые ответы на следующие вопросы:\n",
        "* Является ли корреляционная матрица плохо обусловенной (близок ли её опредитель к нулю)?\n",
        "* Что вы можете сказать о наличии коллинераности/мультиколлинеарности в данных?\n",
        "* Применима ли в данном случае модель классической линейной регрессии по методу наименьших квадратов и почему?"
      ]
    },
    {
      "cell_type": "markdown",
      "source": [
        "**Критерии оценивания:**\n",
        "- Задание выполнено верно, учтены все условия (**2 балла**):\n",
        "    * приведён код для расчёта корреляционной матрицы;\n",
        "    * приведён код для визуализации корреляционной матрицы в виде тепловой карты;\n",
        "    * рассчитаны ранг и определитель корреляционной матрицы;\n",
        "    * предоставлены обоснованные ответы на все поставленные вопросы.\n",
        "\n",
        "- Задание выполнено верно, но не учтено одно условие (**1 балл**).\n",
        "- Задание выполнено неверно, не учтено несколько условий (**0 баллов**)."
      ],
      "metadata": {
        "id": "57OjUl5e2oiL"
      },
      "id": "57OjUl5e2oiL"
    },
    {
      "cell_type": "code",
      "execution_count": 40,
      "id": "af00a5a0",
      "metadata": {
        "id": "af00a5a0",
        "colab": {
          "base_uri": "https://localhost:8080/",
          "height": 862
        },
        "outputId": "8a8182d6-ec6c-4cd2-c1a2-c23a786abfaa"
      },
      "outputs": [
        {
          "output_type": "display_data",
          "data": {
            "text/plain": [
              "<Figure size 1000x800 with 2 Axes>"
            ],
            "image/png": "[encoded data removed]"
          },
          "metadata": {}
        },
        {
          "output_type": "stream",
          "name": "stdout",
          "text": [
            "Well       0.026817\n",
            "Por        0.861910\n",
            "Perm       0.727426\n",
            "AI        -0.390835\n",
            "Brittle    0.237155\n",
            "TOC        0.654445\n",
            "VR         0.323182\n",
            "Prod       1.000000\n",
            "Name: Prod, dtype: float64\n"
          ]
        }
      ],
      "source": [
        "# Ваш код здесь\n",
        "# Сначала вычислим корреляционную матрицу, включая целевой признак Prod\n",
        "import seaborn as sns\n",
        "import numpy as np\n",
        "import matplotlib.pyplot as plt\n",
        "\n",
        "#df = pd.read_csv('unconv.csv')\n",
        "\n",
        "# Создаем корреляционную матрицу\n",
        "correlation_matrix = df.corr()\n",
        "\n",
        "# Визуализируем корреляционную матрицу с помощью тепловой карты\n",
        "plt.figure(figsize=(10, 8))\n",
        "sns.heatmap(correlation_matrix, annot=True, cmap='coolwarm', fmt='.2f', cbar=True)\n",
        "plt.title('Корреляционная матрица')\n",
        "plt.show()\n",
        "\n",
        "# Смотрим на корреляции с целевой переменной\n",
        "print(correlation_matrix['Prod'])\n",
        "\n",
        "\n"
      ]
    },
    {
      "cell_type": "code",
      "source": [
        "# Ранг матрицы\n",
        "rank = np.linalg.matrix_rank(correlation_matrix)\n",
        "\n",
        "# Определитель матрицы\n",
        "determinant = np.linalg.det(correlation_matrix)\n",
        "\n",
        "print(f'Ранг корреляционной матрицы: {rank}')\n",
        "print(f'Определитель корреляционной матрицы: {determinant}')\n"
      ],
      "metadata": {
        "colab": {
          "base_uri": "https://localhost:8080/"
        },
        "id": "4EgRmagzjAbc",
        "outputId": "b8bc8edd-f703-4fcd-ca69-0acf3256e821"
      },
      "id": "4EgRmagzjAbc",
      "execution_count": 41,
      "outputs": [
        {
          "output_type": "stream",
          "name": "stdout",
          "text": [
            "Ранг корреляционной матрицы: 8\n",
            "Определитель корреляционной матрицы: 0.0007299388072652095\n"
          ]
        }
      ]
    },
    {
      "cell_type": "markdown",
      "id": "9a56013d",
      "metadata": {
        "id": "9a56013d"
      },
      "source": [
        "*Ваши выводы здесь*\n",
        "- Наибольшее влияние на добычу газа оказывает пористость (Por), так как её корреляция с Prod составляет 0.86 — очень высокая.\n",
        "\n",
        "- Проницаемость (Perm) и содержание органического углерода (TOC) также влияют на добычу, но чуть слабее.\n",
        "\n",
        "- Акустический импеданс (AI) показывает отрицательную корреляцию с добычей.\n",
        "\n",
        "- Остальные признаки (например, коэффициент хрупкости Brittle и коэффициент отражения витринита VR) имеют либо слабое, либо очень слабое влияние на добычу.\n",
        "\n",
        "**Корреляционная матрица является плохо обусловленной, поскольку её определитель 0.00073 очень близок к нулю.Ранг корреляционной матрицы равен 8, что означает, что все признаки имеют некоторую степень независимости.**\n",
        "\n",
        "- Пористость и проницаемость имеют высокую корреляцию между собой, что может указывать на мультиколлинеарность. Это означает, что они могут быть взаимозаменяемыми, что снижает точность предсказаний в линейной регрессии.\n",
        "\n",
        "**Применение классической линейной регрессии методом наименьших квадратов в данном случае затруднено из-за мультиколлинеарности.**"
      ]
    },
    {
      "cell_type": "markdown",
      "id": "43fd91c4",
      "metadata": {
        "id": "43fd91c4"
      },
      "source": [
        "### Задание 5.2. (2 балла)\n",
        "\n",
        "Создайте матрицу наблюдений `X` и вектор правильных ответов `y`. В качестве факторов для матрицы наблюдений возьмите все имеющиеся в данных признаки.\n",
        "\n",
        "Постройте модель линейной регрессии по методу наименьших квадратов. Для этого воспользуйтесь матричной формулой МНК и инструментарием библиотеки numpy.\n",
        "\n",
        "Выведите на экран полученные оценки коэффициентов модели, округлённые до целого.\n",
        "\n",
        "Приведите подробные выводы по полученным результатам, ответив на следующие вопросы:\n",
        "* Есть ли в ваших данных признаки, которые, согласно модели, можно назвать неинформативными, то есть они не оказывают влияния на целевую переменную или оказывают шумовое влияние?\n",
        "* Приведите интерпретацию нескольких (двух или трёх) коэффициентов полученной модели линейной регрессии.\n"
      ]
    },
    {
      "cell_type": "markdown",
      "source": [
        "**Критерии оценивания:**\n",
        "- Задание выполнено верно, учтены все условия (**2 балла**):\n",
        "    * приведён код для нахождения параметров модели линейной регрессии с помощью матричной формулы МНК;\n",
        "    * на основе полученных параметров даны верные ответы на поставленные вопросы;\n",
        "    * приведена корректная интерпретация нескольких коэффициентов полученной модели линейной регрессии.\n",
        "\n",
        "- Задание выполнено верно, но не учтено одно из условий (**1 балл**).\n",
        "- Задание выполнено неверно, не учтено несколько условий (**0 баллов**)."
      ],
      "metadata": {
        "id": "QtNtTUzI4Cpq"
      },
      "id": "QtNtTUzI4Cpq"
    },
    {
      "cell_type": "markdown",
      "source": [
        "## Построим модель линейной регрессии вручную через метод наименьших квадратов."
      ],
      "metadata": {
        "id": "I0Fen2EdZrxj"
      },
      "id": "I0Fen2EdZrxj"
    },
    {
      "cell_type": "code",
      "execution_count": 42,
      "id": "5724288c",
      "metadata": {
        "id": "5724288c",
        "colab": {
          "base_uri": "https://localhost:8080/"
        },
        "outputId": "2cbf893b-2096-49ed-84a5-02c4c0b0c337"
      },
      "outputs": [
        {
          "output_type": "stream",
          "name": "stdout",
          "text": [
            "Коэффициенты модели (округленные):\n",
            "[[-1232.]\n",
            " [    0.]\n",
            " [  230.]\n",
            " [  116.]\n",
            " [ -365.]\n",
            " [   25.]\n",
            " [  -78.]\n",
            " [  785.]]\n"
          ]
        }
      ],
      "source": [
        "# Ваш код здесь\n",
        "\n",
        "# Подготовим матрицу факторов X и целевой признак Y.\n",
        "# Определяем целевой признак\n",
        "Y = df[\"Prod\"].values.reshape(-1, 1)\n",
        "\n",
        "# Выбираем факторы (без целевой переменной)\n",
        "X = df.drop(columns=[\"Prod\"]).values\n",
        "\n",
        "# Добавляем единичный столбец для свободного члена (Intercept)\n",
        "X = np.hstack([np.ones((X.shape[0], 1)), X])\n",
        "\n",
        "# Вычисляем коэффициенты по методу наименьших квадратов\n",
        "beta = np.linalg.inv(X.T @ X) @ X.T @ Y   # в этом фрагменте наша модель обучаеться\n",
        "\n",
        "# Округляем коэффициенты до целого\n",
        "beta_rounded = np.round(beta)\n",
        "\n",
        "# Выводим результат\n",
        "print(\"Коэффициенты модели (округленные):\")\n",
        "print(beta_rounded)\n",
        "\n"
      ]
    },
    {
      "cell_type": "markdown",
      "id": "bab9ee21",
      "metadata": {
        "id": "bab9ee21"
      },
      "source": [
        "> *Ваши выводы здесь*\n",
        "- Теперь у нас есть значения β, которые можно использовать для предсказаний.\n",
        "- Полученные коэффициенты модели — это параметры, которые были найдены в ходе обучения линейной регрессии. Эти коэффициенты показывают, какое влияние каждый из признаков оказывает на целевую переменную (в данном случае, на выработку газа Prod).\n",
        "- Эти коэффициенты можно использовать для построения предсказаний добычи газа для новых данных скважин, подставляя значения признаков в уравнение модели.\n",
        "- Полученные коэффициенты модели линейной регрессии: означают, что линейная модель, построенная на основе данных, может быть записана как: − 1230 — свободный член (intercept), значение целевой переменной (в данном случае, добычи газа), когда все признаки равны нулю.\n",
        "- Первый коэффициент при первом факторе (Well) оказался близок к нулю после обучения и округлился. Значит, этот признак практически не влияет на предсказание в  модели.\n",
        "- Признаки пористость (Por) и проницаемость (Perm) имеют сильное положительное влияние на выработку газа ; 230 — коэффициент перед пористостью (Por),​ 116 — коэффициент перед проницаемостью (Perm);\n",
        "- Акустический импеданс (AI) и общее содержание органического углерода (TOC) оказывают отрицательное влияние на выработку;-230(AI) , -77(TOC)\n",
        "- Признаки коэффициент хрупкости (Brittle) и коэффициент отражения витринита (VR) также оказывают влияние, но по меньшей ; 25(Brittle), 783(VR).\n",
        "\n",
        "**Некоторые из этих коэффициентов могут быть полезными для дальнейшей оптимизации и улучшения работы скважин.**"
      ]
    },
    {
      "cell_type": "markdown",
      "id": "4a05a4ac",
      "metadata": {
        "id": "4a05a4ac"
      },
      "source": [
        "### Задание 5.3. (1 балл)\n",
        "\n",
        "Теперь потренируемся строить предсказание для наблюдений целевой переменной.\n",
        "\n",
        "**а)** Постройте прогноз выработки газа для скважины со следующими параметрами:\n",
        "\n",
        "```python\n",
        "{\n",
        "    'Well': 106.0,\n",
        "    'Por': 15.32,\n",
        "    'Perm': 3.71,\n",
        "    'AI': 3.29,\n",
        "    'Brittle': 55.99,\n",
        "    'TOC': 1.35,\n",
        "    'VR': 2.42\n",
        " }\n",
        "```\n",
        "\n",
        "Рассчитайте абсолютную ошибку построенного вами прогноза для предложенной скважины (в миллионах кубических футов в день), если известно, что на этой скважине производится `4748.315024` миллионов кубических футов газа в день.\n",
        "\n",
        "**б)** Постройте прогноз выработки газа для всех скважин из обучающего набора данных. Выберите метрику, по которой вы будете оценивать качество регрессионных моделей и сравнивать их между собой (можно использовать несколько метрик, но не более двух).\n",
        "\n",
        "Рассчитайте значение выбранной метрики для вашей модели. Приведите интерпретацию полученного результата."
      ]
    },
    {
      "cell_type": "markdown",
      "source": [
        "**Критерии оценивания:**\n",
        "- Задание выполнено верно, учтены все условия (**1 балл**):\n",
        "    * приведён код для построения прогноза выработки газа на указанной скважине и рассчитана абсолютная ошибка прогноза для этой скважины;\n",
        "    * выбрана корректная для поставленной задачи метрика (или метрики) оценки качества модели и приведён код для расчёта этой метрики на всём обучающем наборе данных;\n",
        "    * приведена корректная интерпретация полученного результата.\n",
        "\n",
        "- Задание выполнено верно, но не учтено одно из условий, или задание выполнено неверно (**0 баллов**)."
      ],
      "metadata": {
        "id": "qUDcep5Q5GWU"
      },
      "id": "qUDcep5Q5GWU"
    },
    {
      "cell_type": "code",
      "execution_count": 43,
      "id": "e4291db0",
      "metadata": {
        "id": "e4291db0",
        "colab": {
          "base_uri": "https://localhost:8080/"
        },
        "outputId": "893b61b2-f03c-470a-d36d-ae23b2bae01c"
      },
      "outputs": [
        {
          "output_type": "stream",
          "name": "stdout",
          "text": [
            "Прогнозируемая выработка газа для скважины: 4723.064053707485\n",
            "Абсолютная ошибка: [25.25097029]\n"
          ]
        }
      ],
      "source": [
        "# Ваш код здесь\n",
        "# Данные для скважины\n",
        "well_data = np.array([[1, 106.0, 15.32, 3.71, 3.29, 55.99, 1.35, 2.42]])  # Добавляем единичный столбец для intercept\n",
        "\n",
        "# Прогнозируем для данной скважины\n",
        "predicted_prod = well_data @ beta\n",
        "\n",
        "# Истинное значение (дано в задаче)\n",
        "true_prod = 4748.315024\n",
        "\n",
        "# Абсолютная ошибка\n",
        "abs_error = abs(true_prod - predicted_prod)\n",
        "print(f\"Прогнозируемая выработка газа для скважины: {predicted_prod[0][0]}\")\n",
        "print(f\"Абсолютная ошибка: {abs_error[0]}\")\n",
        "\n"
      ]
    },
    {
      "cell_type": "code",
      "source": [
        "# Предсказания для всего набора данных\n",
        "Y_pred = X @ beta\n",
        "\n",
        "# MAE\n",
        "mae = np.mean(np.abs(Y - Y_pred))\n",
        "\n",
        "# RMSE\n",
        "rmse = np.sqrt(np.mean((Y - Y_pred)**2))\n",
        "\n",
        "print(\"MAE:\", mae)\n",
        "print(\"RMSE:\", rmse)\n"
      ],
      "metadata": {
        "colab": {
          "base_uri": "https://localhost:8080/"
        },
        "outputId": "93d63aa1-9648-42b4-f6e8-1d8f9b9e4d61",
        "id": "lPmc6MbOgrj7"
      },
      "execution_count": 48,
      "outputs": [
        {
          "output_type": "stream",
          "name": "stdout",
          "text": [
            "MAE: 153.62297086555168\n",
            "RMSE: 198.28020612321944\n"
          ]
        }
      ],
      "id": "lPmc6MbOgrj7"
    },
    {
      "cell_type": "markdown",
      "id": "c9bee4bc",
      "metadata": {
        "id": "c9bee4bc"
      },
      "source": [
        "> *Ваши выводы здесь*\n",
        "\n",
        "- Прогноз: выработка газа на скважине, предсказанная моделью, составляет 4723.06 млн куб. футов, что близко к истинному значению (4748.32 млн куб. футов).\n",
        "\n",
        "- Абсолютная ошибка: Ошибка в предсказании составляет 25.25 млн куб. футов в день, что означает, что модель отклонилась от реального значения на 25.25 миллионов кубических футов.\n",
        "\n",
        "- MAE в 153.62 млн куб. футов в день говорит о том, что в среднем модель достаточно точно предсказывает выработку газа, но все равно имеется ошибка порядка 153.62 млн куб. футов для каждой скважины.\n",
        "\n",
        "- RMSE в 198.28 млн куб. футов в день говорит о том, что ошибки, особенно крупные, оказывают значительное влияние на качество модели.\n",
        "\n",
        "*Если сравнивать эти метрики с теми, что мы получили для конкретной скважины, то видим, что модель может работать лучше на некоторых скважинах, чем в целом по всем данным.*"
      ]
    },
    {
      "cell_type": "markdown",
      "id": "0c25c3aa",
      "metadata": {
        "id": "0c25c3aa"
      },
      "source": [
        "### Задание 5.4. (1 балл)\n",
        "\n",
        "Настало время анализа построенной модели. Посмотрите на коэффициенты и сравните их знаки со значениями выборочных корреляций между целевым признаком и факторами, которые вы нашли ранее.\n",
        "\n",
        "Дайте развёрнутые ответы на следующие вопросы:\n",
        "\n",
        "* Есть ли в вашей модели фактор, при котором коэффициент в модели линейной регрессии противоречит соответствующему коэффициенту корреляции? Например, корреляция говорит, что зависимость между фактором и целевой переменной прямая, а модель говорит обратное. Если таких факторов несколько, укажите их все.\n",
        "* Как вы считаете, с чем связано полученное противоречие результатов?"
      ]
    },
    {
      "cell_type": "markdown",
      "source": [
        "**Критерии оценивания:**\n",
        "\n",
        "- Задание выполнено верно, даны корректные развёрнутые ответы на все поставленные в задании вопросы (**1 балл**).\n",
        "\n",
        "- Задание выполнено неверно, даны некорректные ответы на один или несколько поставленных в задании вопросов (**0 баллов**)."
      ],
      "metadata": {
        "id": "ngJ3UdYb6Ll6"
      },
      "id": "ngJ3UdYb6Ll6"
    },
    {
      "cell_type": "markdown",
      "source": [
        "## Сравнение коэффициентов модели и корреляций"
      ],
      "metadata": {
        "id": "OEudsivYnwQO"
      },
      "id": "OEudsivYnwQO"
    },
    {
      "cell_type": "code",
      "source": [
        "# Ваш код здесь\n",
        "# Наши коэффициенты модели линейной регрессии (по методу наименьших квадратов) следующие:\n",
        "coefficients = [\n",
        "    [-1230.26203694],   # Свободный член\n",
        "    [230.29581021],     # Por\n",
        "    [116.2280334],      # Perm\n",
        "    [-363.73608557],    # AI\n",
        "    [24.9966698],       # Brittle\n",
        "    [-77.43674242],     # TOC\n",
        "    [783.18741348]      # VR\n",
        "]\n",
        "\n",
        "# Вывод коэффициентов модели\n",
        "for idx, coeff in enumerate(coefficients):\n",
        "    print(f\"Коэффициент для фактора {['Свободный член', 'Por', 'Perm', 'AI', 'Brittle', 'TOC', 'VR'][idx]}: {coeff[0]:.2f}\")\n",
        "\n"
      ],
      "metadata": {
        "id": "v-zIxRPY9wK7",
        "colab": {
          "base_uri": "https://localhost:8080/"
        },
        "outputId": "b255c576-77c6-467a-eb46-3acc6bc0b4c0"
      },
      "id": "v-zIxRPY9wK7",
      "execution_count": 45,
      "outputs": [
        {
          "output_type": "stream",
          "name": "stdout",
          "text": [
            "Коэффициент для фактора Свободный член: -1230.26\n",
            "Коэффициент для фактора Por: 230.30\n",
            "Коэффициент для фактора Perm: 116.23\n",
            "Коэффициент для фактора AI: -363.74\n",
            "Коэффициент для фактора Brittle: 25.00\n",
            "Коэффициент для фактора TOC: -77.44\n",
            "Коэффициент для фактора VR: 783.19\n"
          ]
        }
      ]
    },
    {
      "cell_type": "code",
      "source": [
        "# Корреляционные коэффициенты между факторами и целевой переменной (Prod) были следующими:\n",
        "import pandas as pd\n",
        "\n",
        "# Создание данных для таблицы\n",
        "data = {\n",
        "    \"Фактор\": [\"Por\", \"Perm\", \"AI\", \"Brittle\", \"TOC\", \"VR\"],\n",
        "    \"Корреляция с Prod\": [0.861910, 0.727426, -0.390835, 0.237155, 0.654445, 0.323182]\n",
        "}\n",
        "\n",
        "# Создание DataFrame\n",
        "correlation_table = pd.DataFrame(data)\n",
        "\n",
        "# Вывод таблицы\n",
        "#print(correlation_table)\n",
        "\n",
        "#from IPython.display import display\n",
        "\n",
        "# Отображение таблицы\n",
        "display(correlation_table)\n"
      ],
      "metadata": {
        "colab": {
          "base_uri": "https://localhost:8080/",
          "height": 237
        },
        "id": "gTAnG_LPjefP",
        "outputId": "748e9b80-b574-4351-9a45-0b8d931bbeda"
      },
      "id": "gTAnG_LPjefP",
      "execution_count": 95,
      "outputs": [
        {
          "output_type": "display_data",
          "data": {
            "text/plain": [
              "    Фактор  Корреляция с Prod\n",
              "0      Por           0.861910\n",
              "1     Perm           0.727426\n",
              "2       AI          -0.390835\n",
              "3  Brittle           0.237155\n",
              "4      TOC           0.654445\n",
              "5       VR           0.323182"
            ],
            "text/html": [
              "\n",
              "  <div id=\"df-6375bc9c-bfbe-4ad3-91a8-70ce229d35a3\" class=\"colab-df-container\">\n",
              "    <div>\n",
              "<style scoped>\n",
              "    .dataframe tbody tr th:only-of-type {\n",
              "        vertical-align: middle;\n",
              "    }\n",
              "\n",
              "    .dataframe tbody tr th {\n",
              "        vertical-align: top;\n",
              "    }\n",
              "\n",
              "    .dataframe thead th {\n",
              "        text-align: right;\n",
              "    }\n",
              "</style>\n",
              "<table border=\"1\" class=\"dataframe\">\n",
              "  <thead>\n",
              "    <tr style=\"text-align: right;\">\n",
              "      <th></th>\n",
              "      <th>Фактор</th>\n",
              "      <th>Корреляция с Prod</th>\n",
              "    </tr>\n",
              "  </thead>\n",
              "  <tbody>\n",
              "    <tr>\n",
              "      <th>0</th>\n",
              "      <td>Por</td>\n",
              "      <td>0.861910</td>\n",
              "    </tr>\n",
              "    <tr>\n",
              "      <th>1</th>\n",
              "      <td>Perm</td>\n",
              "      <td>0.727426</td>\n",
              "    </tr>\n",
              "    <tr>\n",
              "      <th>2</th>\n",
              "      <td>AI</td>\n",
              "      <td>-0.390835</td>\n",
              "    </tr>\n",
              "    <tr>\n",
              "      <th>3</th>\n",
              "      <td>Brittle</td>\n",
              "      <td>0.237155</td>\n",
              "    </tr>\n",
              "    <tr>\n",
              "      <th>4</th>\n",
              "      <td>TOC</td>\n",
              "      <td>0.654445</td>\n",
              "    </tr>\n",
              "    <tr>\n",
              "      <th>5</th>\n",
              "      <td>VR</td>\n",
              "      <td>0.323182</td>\n",
              "    </tr>\n",
              "  </tbody>\n",
              "</table>\n",
              "</div>\n",
              "    <div class=\"colab-df-buttons\">\n",
              "\n",
              "  <div class=\"colab-df-container\">\n",
              "    <button class=\"colab-df-convert\" onclick=\"convertToInteractive('df-6375bc9c-bfbe-4ad3-91a8-70ce229d35a3')\"\n",
              "            title=\"Convert this dataframe to an interactive table.\"\n",
              "            style=\"display:none;\">\n",
              "\n",
              "  <svg xmlns=\"http://www.w3.org/2000/svg\" height=\"24px\" viewBox=\"0 -960 960 960\">\n",
              "    <path d=\"M120-120v-720h720v720H120Zm60-500h600v-160H180v160Zm220 220h160v-160H400v160Zm0 220h160v-160H400v160ZM180-400h160v-160H180v160Zm440 0h160v-160H620v160ZM180-180h160v-160H180v160Zm440 0h160v-160H620v160Z\"/>\n",
              "  </svg>\n",
              "    </button>\n",
              "\n",
              "  <style>\n",
              "    .colab-df-container {\n",
              "      display:flex;\n",
              "      gap: 12px;\n",
              "    }\n",
              "\n",
              "    .colab-df-convert {\n",
              "      background-color: #E8F0FE;\n",
              "      border: none;\n",
              "      border-radius: 50%;\n",
              "      cursor: pointer;\n",
              "      display: none;\n",
              "      fill: #1967D2;\n",
              "      height: 32px;\n",
              "      padding: 0 0 0 0;\n",
              "      width: 32px;\n",
              "    }\n",
              "\n",
              "    .colab-df-convert:hover {\n",
              "      background-color: #E2EBFA;\n",
              "      box-shadow: 0px 1px 2px rgba(60, 64, 67, 0.3), 0px 1px 3px 1px rgba(60, 64, 67, 0.15);\n",
              "      fill: #174EA6;\n",
              "    }\n",
              "\n",
              "    .colab-df-buttons div {\n",
              "      margin-bottom: 4px;\n",
              "    }\n",
              "\n",
              "    [theme=dark] .colab-df-convert {\n",
              "      background-color: #3B4455;\n",
              "      fill: #D2E3FC;\n",
              "    }\n",
              "\n",
              "    [theme=dark] .colab-df-convert:hover {\n",
              "      background-color: #434B5C;\n",
              "      box-shadow: 0px 1px 3px 1px rgba(0, 0, 0, 0.15);\n",
              "      filter: drop-shadow(0px 1px 2px rgba(0, 0, 0, 0.3));\n",
              "      fill: #FFFFFF;\n",
              "    }\n",
              "  </style>\n",
              "\n",
              "    <script>\n",
              "      const buttonEl =\n",
              "        document.querySelector('#df-6375bc9c-bfbe-4ad3-91a8-70ce229d35a3 button.colab-df-convert');\n",
              "      buttonEl.style.display =\n",
              "        google.colab.kernel.accessAllowed ? 'block' : 'none';\n",
              "\n",
              "      async function convertToInteractive(key) {\n",
              "        const element = document.querySelector('#df-6375bc9c-bfbe-4ad3-91a8-70ce229d35a3');\n",
              "        const dataTable =\n",
              "          await google.colab.kernel.invokeFunction('convertToInteractive',\n",
              "                                                    [key], {});\n",
              "        if (!dataTable) return;\n",
              "\n",
              "        const docLinkHtml = 'Like what you see? Visit the ' +\n",
              "          '<a target=\"_blank\" href=https://colab.research.google.com/notebooks/data_table.ipynb>data table notebook</a>'\n",
              "          + ' to learn more about interactive tables.';\n",
              "        element.innerHTML = '';\n",
              "        dataTable['output_type'] = 'display_data';\n",
              "        await google.colab.output.renderOutput(dataTable, element);\n",
              "        const docLink = document.createElement('div');\n",
              "        docLink.innerHTML = docLinkHtml;\n",
              "        element.appendChild(docLink);\n",
              "      }\n",
              "    </script>\n",
              "  </div>\n",
              "\n",
              "\n",
              "<div id=\"df-a748d33d-98e8-4517-b2ac-e9f88960ff33\">\n",
              "  <button class=\"colab-df-quickchart\" onclick=\"quickchart('df-a748d33d-98e8-4517-b2ac-e9f88960ff33')\"\n",
              "            title=\"Suggest charts\"\n",
              "            style=\"display:none;\">\n",
              "\n",
              "<svg xmlns=\"http://www.w3.org/2000/svg\" height=\"24px\"viewBox=\"0 0 24 24\"\n",
              "     width=\"24px\">\n",
              "    <g>\n",
              "        <path d=\"M19 3H5c-1.1 0-2 .9-2 2v14c0 1.1.9 2 2 2h14c1.1 0 2-.9 2-2V5c0-1.1-.9-2-2-2zM9 17H7v-7h2v7zm4 0h-2V7h2v10zm4 0h-2v-4h2v4z\"/>\n",
              "    </g>\n",
              "</svg>\n",
              "  </button>\n",
              "\n",
              "<style>\n",
              "  .colab-df-quickchart {\n",
              "      --bg-color: #E8F0FE;\n",
              "      --fill-color: #1967D2;\n",
              "      --hover-bg-color: #E2EBFA;\n",
              "      --hover-fill-color: #174EA6;\n",
              "      --disabled-fill-color: #AAA;\n",
              "      --disabled-bg-color: #DDD;\n",
              "  }\n",
              "\n",
              "  [theme=dark] .colab-df-quickchart {\n",
              "      --bg-color: #3B4455;\n",
              "      --fill-color: #D2E3FC;\n",
              "      --hover-bg-color: #434B5C;\n",
              "      --hover-fill-color: #FFFFFF;\n",
              "      --disabled-bg-color: #3B4455;\n",
              "      --disabled-fill-color: #666;\n",
              "  }\n",
              "\n",
              "  .colab-df-quickchart {\n",
              "    background-color: var(--bg-color);\n",
              "    border: none;\n",
              "    border-radius: 50%;\n",
              "    cursor: pointer;\n",
              "    display: none;\n",
              "    fill: var(--fill-color);\n",
              "    height: 32px;\n",
              "    padding: 0;\n",
              "    width: 32px;\n",
              "  }\n",
              "\n",
              "  .colab-df-quickchart:hover {\n",
              "    background-color: var(--hover-bg-color);\n",
              "    box-shadow: 0 1px 2px rgba(60, 64, 67, 0.3), 0 1px 3px 1px rgba(60, 64, 67, 0.15);\n",
              "    fill: var(--button-hover-fill-color);\n",
              "  }\n",
              "\n",
              "  .colab-df-quickchart-complete:disabled,\n",
              "  .colab-df-quickchart-complete:disabled:hover {\n",
              "    background-color: var(--disabled-bg-color);\n",
              "    fill: var(--disabled-fill-color);\n",
              "    box-shadow: none;\n",
              "  }\n",
              "\n",
              "  .colab-df-spinner {\n",
              "    border: 2px solid var(--fill-color);\n",
              "    border-color: transparent;\n",
              "    border-bottom-color: var(--fill-color);\n",
              "    animation:\n",
              "      spin 1s steps(1) infinite;\n",
              "  }\n",
              "\n",
              "  @keyframes spin {\n",
              "    0% {\n",
              "      border-color: transparent;\n",
              "      border-bottom-color: var(--fill-color);\n",
              "      border-left-color: var(--fill-color);\n",
              "    }\n",
              "    20% {\n",
              "      border-color: transparent;\n",
              "      border-left-color: var(--fill-color);\n",
              "      border-top-color: var(--fill-color);\n",
              "    }\n",
              "    30% {\n",
              "      border-color: transparent;\n",
              "      border-left-color: var(--fill-color);\n",
              "      border-top-color: var(--fill-color);\n",
              "      border-right-color: var(--fill-color);\n",
              "    }\n",
              "    40% {\n",
              "      border-color: transparent;\n",
              "      border-right-color: var(--fill-color);\n",
              "      border-top-color: var(--fill-color);\n",
              "    }\n",
              "    60% {\n",
              "      border-color: transparent;\n",
              "      border-right-color: var(--fill-color);\n",
              "    }\n",
              "    80% {\n",
              "      border-color: transparent;\n",
              "      border-right-color: var(--fill-color);\n",
              "      border-bottom-color: var(--fill-color);\n",
              "    }\n",
              "    90% {\n",
              "      border-color: transparent;\n",
              "      border-bottom-color: var(--fill-color);\n",
              "    }\n",
              "  }\n",
              "</style>\n",
              "\n",
              "  <script>\n",
              "    async function quickchart(key) {\n",
              "      const quickchartButtonEl =\n",
              "        document.querySelector('#' + key + ' button');\n",
              "      quickchartButtonEl.disabled = true;  // To prevent multiple clicks.\n",
              "      quickchartButtonEl.classList.add('colab-df-spinner');\n",
              "      try {\n",
              "        const charts = await google.colab.kernel.invokeFunction(\n",
              "            'suggestCharts', [key], {});\n",
              "      } catch (error) {\n",
              "        console.error('Error during call to suggestCharts:', error);\n",
              "      }\n",
              "      quickchartButtonEl.classList.remove('colab-df-spinner');\n",
              "      quickchartButtonEl.classList.add('colab-df-quickchart-complete');\n",
              "    }\n",
              "    (() => {\n",
              "      let quickchartButtonEl =\n",
              "        document.querySelector('#df-a748d33d-98e8-4517-b2ac-e9f88960ff33 button');\n",
              "      quickchartButtonEl.style.display =\n",
              "        google.colab.kernel.accessAllowed ? 'block' : 'none';\n",
              "    })();\n",
              "  </script>\n",
              "</div>\n",
              "\n",
              "  <div id=\"id_22b993b6-e79b-48d1-accf-921490ebf572\">\n",
              "    <style>\n",
              "      .colab-df-generate {\n",
              "        background-color: #E8F0FE;\n",
              "        border: none;\n",
              "        border-radius: 50%;\n",
              "        cursor: pointer;\n",
              "        display: none;\n",
              "        fill: #1967D2;\n",
              "        height: 32px;\n",
              "        padding: 0 0 0 0;\n",
              "        width: 32px;\n",
              "      }\n",
              "\n",
              "      .colab-df-generate:hover {\n",
              "        background-color: #E2EBFA;\n",
              "        box-shadow: 0px 1px 2px rgba(60, 64, 67, 0.3), 0px 1px 3px 1px rgba(60, 64, 67, 0.15);\n",
              "        fill: #174EA6;\n",
              "      }\n",
              "\n",
              "      [theme=dark] .colab-df-generate {\n",
              "        background-color: #3B4455;\n",
              "        fill: #D2E3FC;\n",
              "      }\n",
              "\n",
              "      [theme=dark] .colab-df-generate:hover {\n",
              "        background-color: #434B5C;\n",
              "        box-shadow: 0px 1px 3px 1px rgba(0, 0, 0, 0.15);\n",
              "        filter: drop-shadow(0px 1px 2px rgba(0, 0, 0, 0.3));\n",
              "        fill: #FFFFFF;\n",
              "      }\n",
              "    </style>\n",
              "    <button class=\"colab-df-generate\" onclick=\"generateWithVariable('correlation_table')\"\n",
              "            title=\"Generate code using this dataframe.\"\n",
              "            style=\"display:none;\">\n",
              "\n",
              "  <svg xmlns=\"http://www.w3.org/2000/svg\" height=\"24px\"viewBox=\"0 0 24 24\"\n",
              "       width=\"24px\">\n",
              "    <path d=\"M7,19H8.4L18.45,9,17,7.55,7,17.6ZM5,21V16.75L18.45,3.32a2,2,0,0,1,2.83,0l1.4,1.43a1.91,1.91,0,0,1,.58,1.4,1.91,1.91,0,0,1-.58,1.4L9.25,21ZM18.45,9,17,7.55Zm-12,3A5.31,5.31,0,0,0,4.9,8.1,5.31,5.31,0,0,0,1,6.5,5.31,5.31,0,0,0,4.9,4.9,5.31,5.31,0,0,0,6.5,1,5.31,5.31,0,0,0,8.1,4.9,5.31,5.31,0,0,0,12,6.5,5.46,5.46,0,0,0,6.5,12Z\"/>\n",
              "  </svg>\n",
              "    </button>\n",
              "    <script>\n",
              "      (() => {\n",
              "      const buttonEl =\n",
              "        document.querySelector('#id_22b993b6-e79b-48d1-accf-921490ebf572 button.colab-df-generate');\n",
              "      buttonEl.style.display =\n",
              "        google.colab.kernel.accessAllowed ? 'block' : 'none';\n",
              "\n",
              "      buttonEl.onclick = () => {\n",
              "        google.colab.notebook.generateWithVariable('correlation_table');\n",
              "      }\n",
              "      })();\n",
              "    </script>\n",
              "  </div>\n",
              "\n",
              "    </div>\n",
              "  </div>\n"
            ],
            "application/vnd.google.colaboratory.intrinsic+json": {
              "type": "dataframe",
              "variable_name": "correlation_table",
              "summary": "{\n  \"name\": \"correlation_table\",\n  \"rows\": 6,\n  \"fields\": [\n    {\n      \"column\": \"\\u0424\\u0430\\u043a\\u0442\\u043e\\u0440\",\n      \"properties\": {\n        \"dtype\": \"string\",\n        \"num_unique_values\": 6,\n        \"samples\": [\n          \"Por\",\n          \"Perm\",\n          \"VR\"\n        ],\n        \"semantic_type\": \"\",\n        \"description\": \"\"\n      }\n    },\n    {\n      \"column\": \"\\u041a\\u043e\\u0440\\u0440\\u0435\\u043b\\u044f\\u0446\\u0438\\u044f \\u0441 Prod\",\n      \"properties\": {\n        \"dtype\": \"number\",\n        \"std\": 0.4567539778976935,\n        \"min\": -0.390835,\n        \"max\": 0.86191,\n        \"num_unique_values\": 6,\n        \"samples\": [\n          0.86191,\n          0.727426,\n          0.323182\n        ],\n        \"semantic_type\": \"\",\n        \"description\": \"\"\n      }\n    }\n  ]\n}"
            }
          },
          "metadata": {}
        }
      ]
    },
    {
      "cell_type": "code",
      "source": [
        "import pandas as pd\n",
        "import numpy as np\n",
        "\n",
        "# Данные корреляции с целевой переменной\n",
        "correlations = {\n",
        "    'Por': 0.861910,\n",
        "    'Perm': 0.727426,\n",
        "    'AI': -0.390835,\n",
        "    'Brittle': 0.237155,\n",
        "    'TOC': 0.654445,\n",
        "    'VR': 0.323182\n",
        "}\n",
        "\n",
        "# Коэффициенты модели линейной регрессии\n",
        "coefficients = np.array([\n",
        "    [-1230.26203694],   # Свободный член\n",
        "    [230.29581021],     # Por\n",
        "    [116.2280334],      # Perm\n",
        "    [-363.73608557],    # AI\n",
        "    [24.9966698],       # Brittle\n",
        "    [-77.43674242],     # TOC\n",
        "    [783.18741348]      # VR\n",
        "])\n",
        "\n",
        "# Преобразуем коэффициенты в одномерный массив (для упрощения)\n",
        "coefficients = coefficients.flatten()\n",
        "\n",
        "# Создание DataFrame для сравнения\n",
        "comparison = pd.DataFrame({\n",
        "    \"Correlation\": correlations.values(),\n",
        "    \"Regression Coefficient\": coefficients[1:],  # Убираем первый коэффициент, так как это свободный член\n",
        "}, index=correlations.keys())\n",
        "\n",
        "# Добавляем столбец для сравнения знаков\n",
        "comparison[\"Sign Match\"] = np.sign(comparison[\"Correlation\"]) == np.sign(comparison[\"Regression Coefficient\"])\n",
        "\n",
        "# Выводим результат\n",
        "print(comparison)\n"
      ],
      "metadata": {
        "colab": {
          "base_uri": "https://localhost:8080/"
        },
        "id": "EXJt2-kElqi7",
        "outputId": "93a7ce36-8808-4546-db51-21a95238d250"
      },
      "id": "EXJt2-kElqi7",
      "execution_count": 47,
      "outputs": [
        {
          "output_type": "stream",
          "name": "stdout",
          "text": [
            "         Correlation  Regression Coefficient  Sign Match\n",
            "Por         0.861910              230.295810        True\n",
            "Perm        0.727426              116.228033        True\n",
            "AI         -0.390835             -363.736086        True\n",
            "Brittle     0.237155               24.996670        True\n",
            "TOC         0.654445              -77.436742       False\n",
            "VR          0.323182              783.187413        True\n"
          ]
        }
      ]
    },
    {
      "cell_type": "markdown",
      "source": [
        "> *Ваши выводы здесь*\n",
        "- TOC — это единственный фактор, для которого наблюдается противоречие: корреляция с целевой переменной положительная, а коэффициент модели отрицательный. Это может быть связано с многоколлинеарностью или другими взаимодействиями факторов, которые трудно учесть в линейной модели."
      ],
      "metadata": {
        "id": "qeowwIp99yBf"
      },
      "id": "qeowwIp99yBf"
    },
    {
      "cell_type": "markdown",
      "id": "9cea9195",
      "metadata": {
        "id": "9cea9195"
      },
      "source": [
        "### Задание 5.5. (2 балла)\n",
        "\n",
        "* Исключите из данных сильно коррелированные между собой факторы. Под сильной корреляцией в данной задаче будем понимать значения выше `0.7`.\n",
        "\n",
        "Выбирая, какой из коррелированных факторов оставить, руководствуйтесь коэффициентом корреляции с целевой переменной: оставляйте тот фактор, который больше всего коррелирует с целевой переменной (объёмом добычи газа).\n",
        "\n",
        "* Также исключите из данных факторы, для которых корреляция с целевой переменной меньше `0.05`.\n",
        "\n",
        "Постройте модель линейной регрессии на обновлённых после удаления факторов данных по методу наименьших квадратов. Для этого используйте матричную формулу и библиотеку numpy. Выведите значение полученных коэффициентов, округлённых до целого.\n",
        "\n",
        "Сделайте прогноз для всего обучающего набора данных и рассчитайте выбранную вами ранее метрику (или метрики).\n",
        "\n",
        "Дайте подробные ответы на следующие вопросы:\n",
        "\n",
        "* Приведите интерпретацию нескольких полученных коэффициентов (двух или трёх). Сравните их значения с полученными ранее.\n",
        "* Приведите интерпретацию полученных значений метрик. Сравните их значения с полученными ранее.\n",
        "* Удалось ли вам побороть противоречие коэффициентов линейной регрессии и коэффициентов корреляции?"
      ]
    },
    {
      "cell_type": "markdown",
      "source": [
        "**Критерии оценивания:**\n",
        "- Задание выполнено верно, учтены все условия (**2 балла**):\n",
        "    * отобраны верные факторы;\n",
        "    * на основе отобранных факторов построена модель линейной регрессии с помощью матричной формулы МНК и найдены параметры модели, соответствующие каждому из факторов;\n",
        "    * построен прогноз для всего обучающего набора данных и рассчитано значение метрики (метрика должна быть выбрана корректно);\n",
        "    * даны ответы на все поставленные в задании вопросы.\n",
        "\n",
        "- Задание выполнено верно, но не учтено одно из условий (**1 балл**).\n",
        "- Задание выполнено верно, не учтено несколько из условий (**0 баллов**)."
      ],
      "metadata": {
        "id": "vlUYVjJP6oXN"
      },
      "id": "vlUYVjJP6oXN"
    },
    {
      "cell_type": "code",
      "source": [
        "import pandas as pd\n",
        "import numpy as np\n",
        "\n",
        "# Чтение данных\n",
        "df = pd.read_csv('unconv.csv')\n",
        "\n",
        "# Вычисляем корреляционную матрицу\n",
        "corr_matrix = df.corr()\n",
        "\n",
        "# 1. Отбираем признаки, корреляция которых с 'Prod' по модулю не меньше 0.05 (исключая 'Prod')\n",
        "initial_features = [col for col in df.columns if col != 'Prod' and abs(corr_matrix.loc[col, 'Prod']) >= 0.05]\n",
        "\n",
        "# 2. Из сильно коррелированных признаков (> 0.7) оставляем тот, который сильнее коррелирует с 'Prod'\n",
        "features_to_drop = set()\n",
        "n = len(initial_features)\n",
        "for i in range(n):\n",
        "    for j in range(i + 1, n):\n",
        "        feat_i = initial_features[i]\n",
        "        feat_j = initial_features[j]\n",
        "        # Если взаимная корреляция между признаками превышает 0.7\n",
        "        if abs(corr_matrix.loc[feat_i, feat_j]) > 0.7:\n",
        "            # Сравниваем абсолютные значения корреляции с 'Prod'\n",
        "            corr_i = abs(corr_matrix.loc[feat_i, 'Prod'])\n",
        "            corr_j = abs(corr_matrix.loc[feat_j, 'Prod'])\n",
        "            if corr_i >= corr_j:\n",
        "                features_to_drop.add(feat_j)\n",
        "            else:\n",
        "                features_to_drop.add(feat_i)\n",
        "\n",
        "# Итоговый набор признаков для модели (без 'Prod')\n",
        "final_features = [feat for feat in initial_features if feat not in features_to_drop]\n",
        "\n",
        "# Формируем финальный DataFrame с выбранными признаками и целевой переменной\n",
        "df_new = df[final_features + ['Prod']]\n",
        "\n",
        "print(\"Обновленные данные:\")\n",
        "print(df_new.head())\n"
      ],
      "metadata": {
        "colab": {
          "base_uri": "https://localhost:8080/"
        },
        "id": "fMTzvIVNh9nI",
        "outputId": "f3ef4e5f-7d49-49f4-88e2-7bb7f6da172e"
      },
      "id": "fMTzvIVNh9nI",
      "execution_count": 49,
      "outputs": [
        {
          "output_type": "stream",
          "name": "stdout",
          "text": [
            "Обновленные данные:\n",
            "     Por    AI  Brittle    VR         Prod\n",
            "0  12.08  2.80    81.40  2.31  4165.196191\n",
            "1  12.38  3.22    46.17  1.88  3561.146205\n",
            "2  14.02  4.01    72.80  2.72  4284.348574\n",
            "3  17.67  2.63    39.81  1.88  5098.680869\n",
            "4  17.52  3.18    10.94  1.90  3406.132832\n"
          ]
        }
      ]
    },
    {
      "cell_type": "code",
      "source": [
        "import numpy as np\n",
        "import pandas as pd\n",
        "\n",
        "# Предполагается, что df_new уже сформирован согласно предыдущему коду,\n",
        "# и содержит итоговые признаки и целевую переменную 'Prod'\n",
        "\n",
        "# Разбиваем данные на признаки (X) и целевую переменную (y)\n",
        "final_features = df_new.columns.drop('Prod')\n",
        "X = df_new[final_features].values\n",
        "y = df_new['Prod'].values.reshape(-1, 1)\n",
        "\n",
        "# Добавляем столбец единиц для свободного члена (интерсепта)\n",
        "X_intercept = np.hstack([np.ones((X.shape[0], 1)), X])\n",
        "\n",
        "# Вычисляем коэффициенты по формуле МНК с использованием псевдообратной матрицы\n",
        "theta = np.linalg.pinv(X_intercept.T @ X_intercept) @ X_intercept.T @ y\n",
        "\n",
        "# Делаем прогноз для всего обучающего набора\n",
        "y_pred = X_intercept @ theta\n",
        "\n",
        "# Рассчитываем метрику MAE (Mean Absolute Error)\n",
        "MAE = np.mean(np.abs(y - y_pred))\n",
        "\n",
        "# Рассчитываем метрику RMSE (Root Mean Squared Error)\n",
        "RMSE = np.sqrt(np.mean((y - y_pred) ** 2))\n",
        "\n",
        "print(\"Коэффициенты линейной регрессии (включая свободный член):\")\n",
        "print(np.round(theta.flatten(), 2))\n",
        "print(\"\\nMAE:\", np.round(MAE, 2))\n",
        "print(\"RMSE:\", np.round(RMSE, 2))\n"
      ],
      "metadata": {
        "colab": {
          "base_uri": "https://localhost:8080/"
        },
        "id": "AqzdGCCuh-Bd",
        "outputId": "c9dadb53-cb06-4726-903d-3e1180fbce7c"
      },
      "id": "AqzdGCCuh-Bd",
      "execution_count": 50,
      "outputs": [
        {
          "output_type": "stream",
          "name": "stdout",
          "text": [
            "Коэффициенты линейной регрессии (включая свободный член):\n",
            "[-1835.45   293.04  -200.03    27.64   517.4 ]\n",
            "\n",
            "MAE: 171.43\n",
            "RMSE: 231.65\n"
          ]
        }
      ]
    },
    {
      "cell_type": "markdown",
      "id": "7d50db12",
      "metadata": {
        "id": "7d50db12"
      },
      "source": [
        "### Задание 5.6. (1 балл)\n",
        "\n",
        "Наконец, давайте построим модель линейной регрессии из библиотеки `scikit-learn (sklearn)` и сравним результаты её работы с теми, что нам удалось получить вручную.\n",
        "\n",
        "Постройте модель линейной регрессии на обновлённых после удаления факторов данных по методу наименьших квадратов. Для этого воспользуйтесь классом `LinearRegression` из библиотеки `sklearn`. Выведите значения полученных коэффициентов, округлённые до целого.\n",
        "\n",
        "Сделайте прогноз для всего обучающего набора данных и рассчитайте значение выбранной вами метрики (или метрик).\n",
        "\n",
        "Сравните результаты библиотечной реализации с тем, что вы получили ранее."
      ]
    },
    {
      "cell_type": "markdown",
      "source": [
        "**Критерии оценивания:**\n",
        "\n",
        "- Задание выполнено верно, учтены все условия (**1 балл**):\n",
        "    * на основе отобранных факторов построена модель линейной регрессии из библиотеки sklearn и найдены параметры модели, соответствующие каждому из факторов;\n",
        "    * построен прогноз для всего обучающего набора данных и рассчитано значение метрики (метрика должна быть выбрана корректно);\n",
        "    * приведён вывод о соответствии результатов, полученных вручную и с помощью библиотеки.\n",
        "- Задание выполнено неверно, не учтено одно или несколько условий (**0 баллов**)."
      ],
      "metadata": {
        "id": "emu5D3w278JP"
      },
      "id": "emu5D3w278JP"
    },
    {
      "cell_type": "markdown",
      "source": [
        "## Проведем анализ и сравнение с результатами ручной реализации."
      ],
      "metadata": {
        "id": "9W_4HFqzCm7l"
      },
      "id": "9W_4HFqzCm7l"
    },
    {
      "cell_type": "code",
      "source": [
        "import pandas as pd\n",
        "import numpy as np\n",
        "from sklearn.linear_model import LinearRegression\n",
        "from sklearn.metrics import mean_absolute_error, mean_squared_error\n",
        "\n",
        "# Предполагается, что df_new уже сформирован согласно предыдущим шагам и содержит итоговые признаки + 'Prod'\n",
        "# Определим признаки (X) и целевую переменную (y)\n",
        "final_features = df_new.columns.drop('Prod')\n",
        "X = df_new[final_features].values\n",
        "y = df_new['Prod'].values\n",
        "\n",
        "# Создаем и обучаем модель линейной регрессии\n",
        "lr = LinearRegression()\n",
        "lr.fit(X, y)\n",
        "\n",
        "# Получаем коэффициенты модели: сначала интерсепт, затем коэффициенты для признаков\n",
        "# атрибут, рассчитанный во время обучения (intercept_ , lr.coef_)\n",
        "intercept = lr.intercept_   # cвободный член\n",
        "coefs = lr.coef_             # коэффициенты регрессии\n",
        "\n",
        "# Формируем общий вектор коэффициентов, округляем до целых\n",
        "all_coefs = np.concatenate(([intercept], coefs))\n",
        "all_coefs_rounded = np.round(all_coefs).astype(int)\n",
        "print(\"Коэффициенты модели (sklearn):\", all_coefs_rounded)\n",
        "\n",
        "# Делаем прогноз для всего обучающего набора\n",
        "y_pred = lr.predict(X)\n",
        "\n",
        "# Рассчитываем метрики\n",
        "MAE = mean_absolute_error(y, y_pred)\n",
        "RMSE = np.sqrt(mean_squared_error(y, y_pred))\n",
        "print(\"MAE:\", np.round(MAE, 2))\n",
        "print(\"RMSE:\", np.round(RMSE, 2))\n"
      ],
      "metadata": {
        "colab": {
          "base_uri": "https://localhost:8080/"
        },
        "id": "Yk0hQTMRlMtl",
        "outputId": "90bdb2b9-a73a-4f33-f7c1-92a39b135217"
      },
      "id": "Yk0hQTMRlMtl",
      "execution_count": 51,
      "outputs": [
        {
          "output_type": "stream",
          "name": "stdout",
          "text": [
            "Коэффициенты модели (sklearn): [-1835   293  -200    28   517]\n",
            "MAE: 171.43\n",
            "RMSE: 231.65\n"
          ]
        }
      ]
    },
    {
      "cell_type": "code",
      "source": [
        "import pandas as pd\n",
        "import numpy as np\n",
        "\n",
        "# Данные\n",
        "coeff_sklearn = np.array([-1835, 293, -200, 28, 517])\n",
        "coeff_manual = np.array([-1835.45, 293.04, -200.03, 27.64, 517.4])\n",
        "mae_sklearn, rmse_sklearn = 171.43, 231.65\n",
        "mae_manual, rmse_manual = 171.43, 231.65\n",
        "\n",
        "# Создаем DataFrame с новым именем\n",
        "comparison_df = pd.DataFrame({\n",
        "    \"Коэффициенты модели (sklearn)\": coeff_sklearn,\n",
        "    \"Коэффициенты линейной регрессии\": coeff_manual\n",
        "})\n",
        "\n",
        "# Добавляем метрики\n",
        "comparison_df.loc[\"MAE\"] = [mae_sklearn, mae_manual]\n",
        "comparison_df.loc[\"RMSE\"] = [rmse_sklearn, rmse_manual]\n",
        "\n",
        "# Вывод таблицы\n",
        "print(comparison_df)\n"
      ],
      "metadata": {
        "colab": {
          "base_uri": "https://localhost:8080/"
        },
        "id": "Pp7DU3s7nyFc",
        "outputId": "682fadb0-6fb5-44f2-8d13-30e9e44b9b00"
      },
      "id": "Pp7DU3s7nyFc",
      "execution_count": 53,
      "outputs": [
        {
          "output_type": "stream",
          "name": "stdout",
          "text": [
            "      Коэффициенты модели (sklearn)  Коэффициенты линейной регрессии\n",
            "0                          -1835.00                         -1835.45\n",
            "1                            293.00                           293.04\n",
            "2                           -200.00                          -200.03\n",
            "3                             28.00                            27.64\n",
            "4                            517.00                           517.40\n",
            "MAE                          171.43                           171.43\n",
            "RMSE                         231.65                           231.65\n"
          ]
        }
      ]
    },
    {
      "cell_type": "markdown",
      "source": [
        "> *Ваши выводы здесь*\n",
        "- Результаты, полученные с помощью sklearn, почти аналогичнц результатам ручной реализации. Это подтверждает, что линейная регрессия из библиотеки sklearn работает корректно и точно, минимальные расхождения могут быть связаны с округлением или точностью вычислений."
      ],
      "metadata": {
        "id": "WT9cdHAbAMG7"
      },
      "id": "WT9cdHAbAMG7"
    },
    {
      "cell_type": "markdown",
      "id": "5346338e",
      "metadata": {
        "id": "5346338e"
      },
      "source": [
        "## Практика: полиномиальная регрессия и регуляризация"
      ]
    },
    {
      "cell_type": "markdown",
      "id": "aad9e3a6",
      "metadata": {
        "id": "aad9e3a6"
      },
      "source": [
        "Мы продолжаем работать над задачей от владельца компании «Газ-Таз-Ваз-Нефть» Василия.\n",
        "\n",
        "Ранее мы построили модель линейной регрессии, которая прогнозирует выработку газа на скважине. Для этого мы с помощью матрицы корреляций и рассуждений отобрали некоррелированные, значимые для предсказания признаки. **Далее мы будем использовать именно их (см. задание 5.5).**\n",
        "\n",
        "Мы хотим улучшить результат — уменьшить ошибку прогноза. Для этого мы воспользуемся моделью полиномиальной регрессии третьей степени. Однако теперь мы знаем, что полиномиальным моделям очень легко переобучиться под исходную выборку. Так как данных у нас не так много (всего 200 скважин), то для контроля качества модели мы будем использовать кросс-валидацию.\n",
        "\n",
        "Приступим! Выполните задания 8.1–8.5:\n"
      ]
    },
    {
      "cell_type": "code",
      "execution_count": 74,
      "id": "18506d1b",
      "metadata": {
        "id": "18506d1b"
      },
      "outputs": [],
      "source": [
        "from sklearn.preprocessing import PolynomialFeatures, StandardScaler\n",
        "from sklearn.linear_model import LinearRegression, Lasso, Ridge, ElasticNet\n",
        "from sklearn.model_selection import GridSearchCV\n",
        "from sklearn.model_selection import cross_validate"
      ]
    },
    {
      "cell_type": "markdown",
      "id": "bfbfea8d",
      "metadata": {
        "id": "bfbfea8d"
      },
      "source": [
        "### Задание 8.1. (1 балл)\n",
        "\n",
        "Стандаризируйте признаки с помощью `StandartScaler` из библиотеки `sklearn`.\n",
        "\n",
        "Затем сгенерируйте полиномиальные признаки третьего порядка на факторах, которые вы выбрали для обучения моделей. Для этого воспользуйтесь генератором полиномов `PolynomialFeatures` из библиотеки `sklearn`. Параметр `include_bias` установите в значение `False`.\n",
        "\n",
        "Выведите на экран, сколько факторов у вас получилось после генерации полиномиальных признаков.\n",
        "\n",
        "**Важно:** стандартизацию необходимо произвести до генерации полиномиальных факторов!\n",
        "\n",
        "Обучите модель линейной регрессии из библиотеки `sklearn` (`LinearRegression`) на полученных полиномиальных факторах.\n",
        "\n",
        "Используя кросс-валидацию оцените среднее значение выбранной вами метрики (или метрик) на тренировочных и валидационных фолдах.\n",
        "\n",
        "Проинтерпретируйте полученные результаты."
      ]
    },
    {
      "cell_type": "markdown",
      "source": [
        "**Критерии оценивания:**\n",
        "\n",
        "- Задание выполнено верно, учтены все условия (**1 балл**):\n",
        "    * на основе отобранных факторов сгенерированы полиномиальные признаки третьего порядка;\n",
        "    * построена модель полиномиальной регрессии (линейной регрессии на полиномиальных признаках);\n",
        "    * с помощью кросс-валидации оценено среднее значение выбранной студентом метрики (или метрик) на тренировочных и валидационных фолдах (метрика должна быть выбрана корректно).\n",
        "- Задание выполнено неверно, не учтено одно или несколько из условий (**0 баллов**)."
      ],
      "metadata": {
        "id": "Y8oAhQkr8gV-"
      },
      "id": "Y8oAhQkr8gV-"
    },
    {
      "cell_type": "code",
      "source": [
        "from sklearn.preprocessing import StandardScaler\n",
        "from sklearn.preprocessing import PolynomialFeatures\n",
        "from sklearn.linear_model import LinearRegression\n",
        "from sklearn.model_selection import cross_validate\n",
        "from sklearn.metrics import mean_absolute_percentage_error\n",
        "\n",
        "# Заменим X и y на наши данные\n",
        "X = [[12.08, 2.80, 81.40, 2.31],\n",
        "     [12.38, 3.22, 46.17, 1.88],\n",
        "     [14.02, 4.01, 72.80, 2.72],\n",
        "     [17.67, 2.63, 39.81, 1.88],\n",
        "     [17.52, 3.18, 10.94, 1.90]]\n",
        "y = [4165.196191, 3561.146205, 4284.348574, 5098.680869, 3406.132832]\n",
        "\n",
        "\n",
        "scaler = StandardScaler()\n",
        "X_scaled = scaler.fit_transform(X)\n",
        "\n",
        "# Генерируем полиномиальные признаки третьего порядка\n",
        "poly = PolynomialFeatures(degree=3, include_bias=False)\n",
        "X_poly = poly.fit_transform(X_scaled)\n",
        "\n",
        "print('Кол-во полипризнаков :',X_poly.shape[1])\n",
        "\n",
        "model = LinearRegression()\n",
        "cv_results = cross_validate(model, X_poly, y, scoring='neg_mean_absolute_percentage_error', cv=5, return_train_score=True)\n",
        "\n",
        "print('MAPE на тренировочных фолдах: {:.2f} %'.format(-cv_results['train_score'].mean()* 100))\n",
        "print('MAPE на валидационных фолдах: {:.2f} %'.format(-cv_results['test_score'].mean() * 100))\n",
        "\n",
        "\n",
        "\n",
        "\n",
        "\n",
        "\n"
      ],
      "metadata": {
        "colab": {
          "base_uri": "https://localhost:8080/"
        },
        "id": "bp8gaJtoFoJ6",
        "outputId": "919b23a1-2fc7-4c39-e52c-1dd396210f62"
      },
      "id": "bp8gaJtoFoJ6",
      "execution_count": 87,
      "outputs": [
        {
          "output_type": "stream",
          "name": "stdout",
          "text": [
            "Кол-во полипризнаков : 34\n",
            "MAPE на тренировочных фолдах: 0.00 %\n",
            "MAPE на валидационных фолдах: 21.68 %\n"
          ]
        }
      ]
    },
    {
      "cell_type": "markdown",
      "source": [
        "> *Ваши выводы здесь*\n",
        "\n",
        "- **Linear Regression (обычная линейная регрессия)**\n",
        "  - После применения полиномиальных признаков третьего порядка, мы получили 34 новых признака;\n",
        "  - MAPE на train: 0.00% → сильное переобучение!\n",
        "  - MAPE на test: 21.68% → высокая ошибка на тесте.\n",
        "- **Без регуляризации модель запомнила данные, но не смогла обобщить.**"
      ],
      "metadata": {
        "id": "9DkuuLLtFPPy"
      },
      "id": "9DkuuLLtFPPy"
    },
    {
      "cell_type": "markdown",
      "id": "63d06013",
      "metadata": {
        "id": "63d06013"
      },
      "source": [
        "### Задание 8.2. (2 балла)\n",
        "\n",
        "Теперь попробуем воспользоваться линейной регрессией с регуляризацией. Для начала возьмём $L_1$-регуляризацию.\n",
        "\n",
        "Обучите модель `Lasso` из библиотеки `sklearn` на полученных полиномиальных факторах, предварительно стандартизировав факторы.\n",
        "\n",
        "Коэффициент регуляризации (`alpha`) подберите самостоятельно с помощью любого известного вам метода подбора гиперпаметров.\n",
        "\n",
        "Используя кросс-валидацию, оцените среднее значение выбранной вами метрики (или метрик) на тренировочных и валидационных фолдах.\n",
        "\n",
        "Проинтерпретируйте полученные результаты."
      ]
    },
    {
      "cell_type": "markdown",
      "source": [
        "**Критерии оценивания:**\n",
        "\n",
        "- Задание выполнено верно, учтены все условия (**2 балла**):\n",
        "    * правильно построена модель полиномиальной регрессии (линейной регрессии на полиномиальных признаках) с регуляризацией (Lasso), учтены условия необходимости масштабирования факторов для построения модели;\n",
        "    * приведён код для подбора параметра регуляризации (вручную или с помощью библиотечных инструментов);\n",
        "    * с помощью кросс-валидации оценено среднее значение выбранной студентом метрики (или метрик) на тренировочных и валидационных фолдах (метрика должна быть выбрана корректно).\n",
        "\n",
        "- Задание выполнено верно, но не учтено одно из условий (**1 балл**).\n",
        "- Задание выполнено неверно, не учтено несколько условий (**0 баллов**)."
      ],
      "metadata": {
        "id": "z24YUfuA9rUq"
      },
      "id": "z24YUfuA9rUq"
    },
    {
      "cell_type": "code",
      "source": [
        "from sklearn.linear_model import Lasso\n",
        "\n",
        "# Подбор alpha для Lasso\n",
        "lasso_params = {'alpha': np.logspace(-4, 2, 20)}\n",
        "lasso_model = Lasso(max_iter=10000)\n",
        "lasso_grid = GridSearchCV(lasso_model, lasso_params, scoring='neg_mean_absolute_percentage_error', cv=5, n_jobs=-1)\n",
        "lasso_grid.fit(X_poly, y)\n",
        "\n",
        "# Оптимальная модель и параметр\n",
        "lasso_best = lasso_grid.best_estimator_\n",
        "best_alpha_lasso = lasso_grid.best_params_['alpha']\n",
        "\n",
        "# Кросс-валидация\n",
        "cv_results_lasso = cross_validate(lasso_best, X_poly, y, scoring='neg_mean_absolute_percentage_error', cv=5, return_train_score=True)\n",
        "\n",
        "# Вывод результатов\n",
        "lasso_train_mape = -cv_results_lasso['train_score'].mean() * 100\n",
        "lasso_val_mape = -cv_results_lasso['test_score'].mean() * 100\n",
        "\n",
        "print(f\"Lasso Regression:\")\n",
        "print(f\"Оптимальное alpha: {best_alpha_lasso}\")\n",
        "print(f\"MAPE на тренировочных фолдах: {lasso_train_mape:.2f}%\")\n",
        "print(f\"MAPE на валидационных фолдах: {lasso_val_mape:.2f}%\")\n"
      ],
      "metadata": {
        "colab": {
          "base_uri": "https://localhost:8080/"
        },
        "id": "RVE3524IKCWT",
        "outputId": "6a3f3775-039e-452b-88ae-ec458d311660"
      },
      "id": "RVE3524IKCWT",
      "execution_count": 91,
      "outputs": [
        {
          "output_type": "stream",
          "name": "stdout",
          "text": [
            "Lasso Regression:\n",
            "Оптимальное alpha: 100.0\n",
            "MAPE на тренировочных фолдах: 2.97%\n",
            "MAPE на валидационных фолдах: 24.51%\n"
          ]
        }
      ]
    },
    {
      "cell_type": "markdown",
      "source": [
        "> *Ваши выводы здесь*\n",
        "\n",
        "- **Lasso (L1-регуляризация)**\n",
        "  - MAPE на train: 2.97%, test: 24.51% → переобучение, но слабее, чем у Linear Regression.\n",
        "\n",
        "- **Lasso помогает, но, вероятно, слишком сильно занулило коэффициенты.**\n"
      ],
      "metadata": {
        "id": "Se0OGR8UF2Td"
      },
      "id": "Se0OGR8UF2Td"
    },
    {
      "cell_type": "markdown",
      "id": "2975ae60",
      "metadata": {
        "id": "2975ae60"
      },
      "source": [
        "### Задание 8.3. (2 балла)\n",
        "\n",
        "Проделаем то же самое с $L_2$-регуляризацией.\n",
        "\n",
        "Обучите модель `Ridge` из библиотеки `sklearn` на полученных полиномиальных факторах, предварительно стандартизировав факторы.\n",
        "\n",
        "Коэффициент регуляризации (`alpha`) подберите самостоятельно с помощью любого известного вам метода подбора гиперпаметров.\n",
        "\n",
        "Используя кросс-валидацию оцените среднее значение выбранной вами метрики (или метрик) на тренировочных и валидационных фолдах.\n",
        "\n",
        "Проинтерпретируйте полученные результаты."
      ]
    },
    {
      "cell_type": "markdown",
      "source": [
        "**Критерии оценивания:**\n",
        "\n",
        "- Задание выполнено верно, учтены все условия (**2 балла**):\n",
        "\n",
        " * правильно построена модель полиномиальной регрессии (линейной регрессии на полиномиальных признаках) с регуляризацией (Ridge), учтены условия необходимости масштабирования факторов для построения модели;\n",
        " * приведён код для подбора параметра регуляризации (вручную или с помощью библиотечных инструментов);\n",
        " * с помощью кросс-валидации оценено среднее значение выбранной студентом метрики (или метрик) на тренировочных и валидационных фолдах (метрика должна быть выбрана корректно).\n",
        "- Задание выполнено верно, но не учтено одно из условий (**1 балл**).\n",
        "\n",
        "- Задание выполнено неверно, не учтено несколько условий (**0 баллов**).\n",
        "\n"
      ],
      "metadata": {
        "id": "nr1SgZ79RloS"
      },
      "id": "nr1SgZ79RloS"
    },
    {
      "cell_type": "code",
      "source": [
        "from sklearn.preprocessing import StandardScaler, PolynomialFeatures\n",
        "from sklearn.linear_model import Ridge\n",
        "from sklearn.model_selection import cross_validate, GridSearchCV\n",
        "import numpy as np\n",
        "\n",
        "# Стандартизация признаков\n",
        "scaler = StandardScaler()\n",
        "X_scaled = scaler.fit_transform(X)\n",
        "\n",
        "# Генерация полиномиальных признаков (3-я степень)\n",
        "poly = PolynomialFeatures(degree=3, include_bias=False)\n",
        "X_poly = poly.fit_transform(X_scaled)\n",
        "\n",
        "# Подбор alpha для Ridge\n",
        "ridge_params = {'alpha': np.logspace(-4, 2, 20)}\n",
        "ridge_model = Ridge(max_iter=10000)\n",
        "ridge_grid = GridSearchCV(ridge_model, ridge_params, scoring='neg_mean_absolute_percentage_error', cv=5, n_jobs=-1)\n",
        "ridge_grid.fit(X_poly, y)\n",
        "\n",
        "# Оптимальная модель и параметр\n",
        "ridge_best = ridge_grid.best_estimator_\n",
        "best_alpha_ridge = ridge_grid.best_params_['alpha']\n",
        "\n",
        "# Кросс-валидация\n",
        "cv_results_ridge = cross_validate(ridge_best, X_poly, y, scoring='neg_mean_absolute_percentage_error', cv=5, return_train_score=True)\n",
        "\n",
        "# Вывод результатов\n",
        "ridge_train_mape = -cv_results_ridge['train_score'].mean() * 100\n",
        "ridge_val_mape = -cv_results_ridge['test_score'].mean() * 100\n",
        "\n",
        "print(f\"Ridge Regression:\")\n",
        "print(f\"Оптимальное alpha: {best_alpha_ridge}\")\n",
        "print(f\"MAPE на тренировочных фолдах: {ridge_train_mape:.2f}%\")\n",
        "print(f\"MAPE на валидационных фолдах: {ridge_val_mape:.2f}%\")\n"
      ],
      "metadata": {
        "colab": {
          "base_uri": "https://localhost:8080/"
        },
        "id": "SMZHGyjnK_4w",
        "outputId": "f7d19a83-72b7-4bd6-fb01-43551439f43f"
      },
      "id": "SMZHGyjnK_4w",
      "execution_count": 92,
      "outputs": [
        {
          "output_type": "stream",
          "name": "stdout",
          "text": [
            "Ridge Regression:\n",
            "Оптимальное alpha: 100.0\n",
            "MAPE на тренировочных фолдах: 9.39%\n",
            "MAPE на валидационных фолдах: 16.79%\n"
          ]
        }
      ]
    },
    {
      "cell_type": "markdown",
      "source": [
        "> *Ваши выводы здесь*\n",
        "\n",
        "- **Ridge (L2-регуляризация)**\n",
        "   - MAPE на train: 9.39%, test: 16.79% → наименьшее переобучение!\n",
        "\n",
        "- **Ridge лучше сбалансировал модель, хорошо работая на тестовых данных.**"
      ],
      "metadata": {
        "id": "Gj7QydGSRFTS"
      },
      "id": "Gj7QydGSRFTS"
    },
    {
      "cell_type": "markdown",
      "id": "7ad85b78",
      "metadata": {
        "id": "7ad85b78"
      },
      "source": [
        "### Задание 8.4. (2 балла)\n",
        "\n",
        "Наконец, настало время комбинировать $L_1$ и $L_2$ -регуляризации.\n",
        "\n",
        "Обучите модель `ElasticNet` из библиотеки `sklearn` на полученных полиномиальных факторах, предварительно стандартизировав факторы.\n",
        "\n",
        "Коэффициенты регуляризации (`alpha` и `l1-ratio`) подберите самостоятельно с помощью любого известного вам метода подбора гиперпаметров.\n",
        "\n",
        "Используя кросс-валидацию, оцените среднее значение метрики MAPE на тренировочных и валидационных фолдах.\n",
        "\n",
        "Проинтерпретируйте полученные результаты."
      ]
    },
    {
      "cell_type": "markdown",
      "source": [
        "**Критерии оценивания:**\n",
        "\n",
        "- Задание выполнено верно, учтены все условия (**2 балла**):\n",
        "    * правильно построена модель полиномиальной регрессии (линейной регрессии на полиномиальных признаках) с регуляризацией (ElasticNet), учтены условия необходимости масштабирования факторов для построения модели;\n",
        "    * приведён код для подбора параметра регуляризации (вручную или с помощью библиотечных инструментов);\n",
        "    * с помощью кросс-валидации оценено среднее значение выбранной студентом метрики (или метрик) на тренировочных и валидационных фолдах (метрика должна быть выбрана корректно).\n",
        "\n",
        "- Задание выполнено верно, но не учтено одно из условий (**1 балл**).\n",
        "- Задание выполнено неверно, не учтено несколько условий (**0 баллов**)."
      ],
      "metadata": {
        "id": "sy8ESceQ-__u"
      },
      "id": "sy8ESceQ-__u"
    },
    {
      "cell_type": "code",
      "source": [
        "from sklearn.linear_model import ElasticNet\n",
        "\n",
        "# Подбор alpha и l1_ratio для ElasticNet\n",
        "elastic_params = {\n",
        "    'alpha': np.logspace(-4, 2, 20),\n",
        "    'l1_ratio': [0.1, 0.3, 0.5, 0.7, 0.9]\n",
        "}\n",
        "elastic_model = ElasticNet(max_iter=10000)\n",
        "elastic_grid = GridSearchCV(elastic_model, elastic_params, scoring='neg_mean_absolute_percentage_error', cv=5, n_jobs=-1)\n",
        "elastic_grid.fit(X_poly, y)\n",
        "\n",
        "# Оптимальная модель и параметры\n",
        "elastic_best = elastic_grid.best_estimator_\n",
        "best_alpha_elastic = elastic_grid.best_params_['alpha']\n",
        "best_l1_ratio = elastic_grid.best_params_['l1_ratio']\n",
        "\n",
        "# Кросс-валидация\n",
        "cv_results_elastic = cross_validate(elastic_best, X_poly, y, scoring='neg_mean_absolute_percentage_error', cv=5, return_train_score=True)\n",
        "\n",
        "# Вывод результатов\n",
        "elastic_train_mape = -cv_results_elastic['train_score'].mean() * 100\n",
        "elastic_val_mape = -cv_results_elastic['test_score'].mean() * 100\n",
        "\n",
        "print(f\"ElasticNet Regression:\")\n",
        "print(f\"Оптимальное alpha: {best_alpha_elastic}, l1_ratio: {best_l1_ratio}\")\n",
        "print(f\"MAPE на тренировочных фолдах: {elastic_train_mape:.2f}%\")\n",
        "print(f\"MAPE на валидационных фолдах: {elastic_val_mape:.2f}%\")\n",
        "\n"
      ],
      "metadata": {
        "colab": {
          "base_uri": "https://localhost:8080/"
        },
        "id": "QB3pl-tsA3oE",
        "outputId": "2717b841-7d39-48c3-e7be-b624281aa559"
      },
      "id": "QB3pl-tsA3oE",
      "execution_count": 93,
      "outputs": [
        {
          "output_type": "stream",
          "name": "stdout",
          "text": [
            "ElasticNet Regression:\n",
            "Оптимальное alpha: 100.0, l1_ratio: 0.1\n",
            "MAPE на тренировочных фолдах: 10.98%\n",
            "MAPE на валидационных фолдах: 15.81%\n"
          ]
        }
      ]
    },
    {
      "cell_type": "markdown",
      "source": [
        "> *Ваши выводы здесь*\n",
        "\n",
        "- **ElasticNet (L1 + L2)**\n",
        "\n",
        " - MAPE на train: 10.98%, test: 15.81% → лучшая метрика на валидации!\n",
        "\n",
        "- **Комбинация L1 и L2 оказалась наиболее устойчивой.**"
      ],
      "metadata": {
        "id": "qncrFs1FYzlj"
      },
      "id": "qncrFs1FYzlj"
    },
    {
      "cell_type": "markdown",
      "id": "91c6e1d1",
      "metadata": {
        "id": "91c6e1d1"
      },
      "source": [
        "### Задание 8.5. (1 балл)\n",
        "\n",
        "Завершением вашей работы будет сводная таблица результатов, которую вы представите на презентации заказчику Василию.\n",
        "\n",
        "Составьте таблицу (DataFrame) со следующими столбцами (имена столбцов выберите самостоятельно):\n",
        "* Наименование модели.\n",
        "* Гиперпараметры (коэффициенты регуляризации, если таковые имеются), если нет — оставьте ячейку пустой.\n",
        "* Использовались ли полиномиальные признаки при построении модели (Да/Нет или True/False).\n",
        "* Значение выбранной метрики на тренировочных фолдах при кросс-валидации модели.\n",
        "* Значение выбранной метрики на валидационных фолдах при кросс-валидации модели.\n",
        "\n",
        "Сделайте финальный вывод по проделанной работе. Какая линейная модель из тех, что мы рассмотрели, показала наилучший результат с точки зрения качества на валидационных фолдах, а также с точки зрения переобученности?"
      ]
    },
    {
      "cell_type": "markdown",
      "source": [
        "**Критерии оценивания:**\n",
        "\n",
        "- Задание выполнено верно, учтены все условия (**1 балл**):\n",
        "    * верно составлена сводная таблица итоговых результатов построенных ранее моделей с указанными в задании столбцами;\n",
        "    * приведены итоговые выводы по проделанной работе, указано, какая из рассмотренных моделей показала наилучший результат.\n",
        "\n",
        "- Задание выполнено неверно, не учтено одно или несколько условий (**0 баллов**)."
      ],
      "metadata": {
        "id": "OsFRaKkF_nLq"
      },
      "id": "OsFRaKkF_nLq"
    },
    {
      "cell_type": "code",
      "source": [
        "import pandas as pd\n",
        "\n",
        "# Создание DataFrame с результатами\n",
        "results = pd.DataFrame({\n",
        "    'Model': ['Linear Regression', 'Lasso', 'Ridge', 'ElasticNet'],\n",
        "    'Params': ['', 'alpha=100', 'alpha=100', 'alpha=100, l1_ratio=0.1'],\n",
        "    'Poly Features': [True, True, True, True],\n",
        "    'Train MAPE (%)': [0.00, 2.97, 9.39, 10.98],\n",
        "    'Test MAPE (%)': [21.68, 24.51, 16.79, 15.81],\n",
        "    'Overfitting (%)': [21.68, abs(2.97 - 24.51), abs(9.39 - 16.79), abs(10.98 - 15.81)]\n",
        "})\n",
        "\n",
        "# Вывод таблицы\n",
        "print(results)\n"
      ],
      "metadata": {
        "colab": {
          "base_uri": "https://localhost:8080/"
        },
        "id": "gL8wv0TYMrek",
        "outputId": "ffe1c6d2-7858-4d14-ed3c-6e47cc08d74c"
      },
      "id": "gL8wv0TYMrek",
      "execution_count": 94,
      "outputs": [
        {
          "output_type": "stream",
          "name": "stdout",
          "text": [
            "               Model                   Params  Poly Features  Train MAPE (%)  \\\n",
            "0  Linear Regression                                    True            0.00   \n",
            "1              Lasso                alpha=100           True            2.97   \n",
            "2              Ridge                alpha=100           True            9.39   \n",
            "3         ElasticNet  alpha=100, l1_ratio=0.1           True           10.98   \n",
            "\n",
            "   Test MAPE (%)  Overfitting (%)  \n",
            "0          21.68            21.68  \n",
            "1          24.51            21.54  \n",
            "2          16.79             7.40  \n",
            "3          15.81             4.83  \n"
          ]
        }
      ]
    },
    {
      "cell_type": "markdown",
      "source": [
        "> *Ваши выводы здесь*\n",
        "\n",
        "- Если важна точность на тесте → ElasticNet (15.81%).\n",
        "\n",
        "- Если минимальное переобучение → Ridge (разница 7.4%).\n",
        "\n",
        "- Linear Regression не подходит (**переобучение**).\n",
        "\n",
        "- Lasso не дал улучшений по сравнению с Ridge или ElasticNet."
      ],
      "metadata": {
        "id": "h8RonVcePSQF"
      },
      "id": "h8RonVcePSQF"
    }
  ],
  "metadata": {
    "kernelspec": {
      "display_name": "Python 3.10.8 ('base')",
      "language": "python",
      "name": "python3"
    },
    "language_info": {
      "codemirror_mode": {
        "name": "ipython",
        "version": 3
      },
      "file_extension": ".py",
      "mimetype": "text/x-python",
      "name": "python",
      "nbconvert_exporter": "python",
      "pygments_lexer": "ipython3",
      "version": "3.10.8"
    },
    "vscode": {
      "interpreter": {
        "hash": "86c56a74836ad344b00594bf6f38fa6a676a207ceefe20d101fbc465800ccb8d"
      }
    },
    "colab": {
      "provenance": [],
      "include_colab_link": true
    }
  },
  "nbformat": 4,
  "nbformat_minor": 5
}